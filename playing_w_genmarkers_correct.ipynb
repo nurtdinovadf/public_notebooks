{
 "cells": [
  {
   "cell_type": "markdown",
   "metadata": {},
   "source": [
    "*WARNING This is not production-ready code. There are no signs of some kind of good pipeline (with classes like data generators for preprocessing purposes, utility functions, well documented API, you name it). No signs of code commenting and proper documentation could be found either. Let's call this notebook a demonstration*"
   ]
  },
  {
   "cell_type": "markdown",
   "metadata": {},
   "source": [
    "# Import Section"
   ]
  },
  {
   "cell_type": "code",
   "execution_count": 117,
   "metadata": {
    "ExecuteTime": {
     "end_time": "2018-05-07T11:46:18.088664Z",
     "start_time": "2018-05-07T11:46:18.082882Z"
    }
   },
   "outputs": [],
   "source": [
    "import pandas as pd\n",
    "from sklearn.decomposition import PCA\n",
    "import matplotlib.pyplot as plt\n",
    "import seaborn as sns\n",
    "import numpy as np\n",
    "from sklearn.cluster import KMeans\n",
    "from collections import Counter\n",
    "import datashader as ds\n",
    "import dask.dataframe as dd\n",
    "from colorcet import fire, kgy\n",
    "from datashader import transfer_functions as tf\n",
    "from mpl_toolkits.mplot3d import axes3d\n",
    "from scipy import stats\n",
    "from sklearn.externals import joblib\n",
    "%matplotlib inline"
   ]
  },
  {
   "cell_type": "markdown",
   "metadata": {},
   "source": [
    "# Read data (& basic EDA)"
   ]
  },
  {
   "cell_type": "code",
   "execution_count": 6,
   "metadata": {
    "ExecuteTime": {
     "end_time": "2018-05-07T10:49:47.075269Z",
     "start_time": "2018-05-07T10:49:44.639156Z"
    }
   },
   "outputs": [
    {
     "data": {
      "text/html": [
       "<div>\n",
       "<style scoped>\n",
       "    .dataframe tbody tr th:only-of-type {\n",
       "        vertical-align: middle;\n",
       "    }\n",
       "\n",
       "    .dataframe tbody tr th {\n",
       "        vertical-align: top;\n",
       "    }\n",
       "\n",
       "    .dataframe thead th {\n",
       "        text-align: right;\n",
       "    }\n",
       "</style>\n",
       "<table border=\"1\" class=\"dataframe\">\n",
       "  <thead>\n",
       "    <tr style=\"text-align: right;\">\n",
       "      <th></th>\n",
       "      <th>0</th>\n",
       "      <th>1</th>\n",
       "      <th>2</th>\n",
       "      <th>3</th>\n",
       "      <th>4</th>\n",
       "      <th>5</th>\n",
       "      <th>6</th>\n",
       "      <th>7</th>\n",
       "      <th>8</th>\n",
       "      <th>9</th>\n",
       "      <th>...</th>\n",
       "      <th>94</th>\n",
       "      <th>95</th>\n",
       "      <th>96</th>\n",
       "      <th>97</th>\n",
       "      <th>98</th>\n",
       "      <th>99</th>\n",
       "      <th>100</th>\n",
       "      <th>101</th>\n",
       "      <th>102</th>\n",
       "      <th>103</th>\n",
       "    </tr>\n",
       "  </thead>\n",
       "  <tbody>\n",
       "    <tr>\n",
       "      <th>0</th>\n",
       "      <td>rs200345880</td>\n",
       "      <td>10</td>\n",
       "      <td>82691</td>\n",
       "      <td>NaN</td>\n",
       "      <td>AA</td>\n",
       "      <td>GA</td>\n",
       "      <td>AA</td>\n",
       "      <td>AA</td>\n",
       "      <td>AA</td>\n",
       "      <td>AG</td>\n",
       "      <td>...</td>\n",
       "      <td>GG</td>\n",
       "      <td>GG</td>\n",
       "      <td>GG</td>\n",
       "      <td>GG</td>\n",
       "      <td>AA</td>\n",
       "      <td>GG</td>\n",
       "      <td>GA</td>\n",
       "      <td>GG</td>\n",
       "      <td>GG</td>\n",
       "      <td>GA</td>\n",
       "    </tr>\n",
       "    <tr>\n",
       "      <th>1</th>\n",
       "      <td>rs10751931</td>\n",
       "      <td>10</td>\n",
       "      <td>95949</td>\n",
       "      <td>NaN</td>\n",
       "      <td>TC</td>\n",
       "      <td>TC</td>\n",
       "      <td>TC</td>\n",
       "      <td>TC</td>\n",
       "      <td>TT</td>\n",
       "      <td>TT</td>\n",
       "      <td>...</td>\n",
       "      <td>TT</td>\n",
       "      <td>TT</td>\n",
       "      <td>TT</td>\n",
       "      <td>TT</td>\n",
       "      <td>CT</td>\n",
       "      <td>TT</td>\n",
       "      <td>TT</td>\n",
       "      <td>TT</td>\n",
       "      <td>TT</td>\n",
       "      <td>TT</td>\n",
       "    </tr>\n",
       "    <tr>\n",
       "      <th>2</th>\n",
       "      <td>rs4266997</td>\n",
       "      <td>10</td>\n",
       "      <td>96434</td>\n",
       "      <td>NaN</td>\n",
       "      <td>CT</td>\n",
       "      <td>CT</td>\n",
       "      <td>CT</td>\n",
       "      <td>CT</td>\n",
       "      <td>CC</td>\n",
       "      <td>CC</td>\n",
       "      <td>...</td>\n",
       "      <td>CC</td>\n",
       "      <td>CC</td>\n",
       "      <td>CC</td>\n",
       "      <td>CC</td>\n",
       "      <td>TC</td>\n",
       "      <td>CC</td>\n",
       "      <td>CT</td>\n",
       "      <td>CC</td>\n",
       "      <td>CC</td>\n",
       "      <td>CT</td>\n",
       "    </tr>\n",
       "    <tr>\n",
       "      <th>3</th>\n",
       "      <td>rs4881370</td>\n",
       "      <td>10</td>\n",
       "      <td>109082</td>\n",
       "      <td>NaN</td>\n",
       "      <td>CT</td>\n",
       "      <td>CC</td>\n",
       "      <td>CT</td>\n",
       "      <td>CT</td>\n",
       "      <td>CC</td>\n",
       "      <td>CC</td>\n",
       "      <td>...</td>\n",
       "      <td>CC</td>\n",
       "      <td>CC</td>\n",
       "      <td>CC</td>\n",
       "      <td>CC</td>\n",
       "      <td>TC</td>\n",
       "      <td>CC</td>\n",
       "      <td>CT</td>\n",
       "      <td>CC</td>\n",
       "      <td>CC</td>\n",
       "      <td>CT</td>\n",
       "    </tr>\n",
       "    <tr>\n",
       "      <th>4</th>\n",
       "      <td>rs4242802</td>\n",
       "      <td>10</td>\n",
       "      <td>133998</td>\n",
       "      <td>NaN</td>\n",
       "      <td>GC</td>\n",
       "      <td>GG</td>\n",
       "      <td>GC</td>\n",
       "      <td>GC</td>\n",
       "      <td>GG</td>\n",
       "      <td>GG</td>\n",
       "      <td>...</td>\n",
       "      <td>GG</td>\n",
       "      <td>GG</td>\n",
       "      <td>GG</td>\n",
       "      <td>GG</td>\n",
       "      <td>CG</td>\n",
       "      <td>GG</td>\n",
       "      <td>GC</td>\n",
       "      <td>GG</td>\n",
       "      <td>GG</td>\n",
       "      <td>GC</td>\n",
       "    </tr>\n",
       "  </tbody>\n",
       "</table>\n",
       "<p>5 rows × 104 columns</p>\n",
       "</div>"
      ],
      "text/plain": [
       "           0    1       2    3   4   5   6   7   8   9   ... 94  95  96  97   \\\n",
       "0  rs200345880   10   82691  NaN  AA  GA  AA  AA  AA  AG ...  GG  GG  GG  GG   \n",
       "1   rs10751931   10   95949  NaN  TC  TC  TC  TC  TT  TT ...  TT  TT  TT  TT   \n",
       "2    rs4266997   10   96434  NaN  CT  CT  CT  CT  CC  CC ...  CC  CC  CC  CC   \n",
       "3    rs4881370   10  109082  NaN  CT  CC  CT  CT  CC  CC ...  CC  CC  CC  CC   \n",
       "4    rs4242802   10  133998  NaN  GC  GG  GC  GC  GG  GG ...  GG  GG  GG  GG   \n",
       "\n",
       "  98  99  100 101 102 103  \n",
       "0  AA  GG  GA  GG  GG  GA  \n",
       "1  CT  TT  TT  TT  TT  TT  \n",
       "2  TC  CC  CT  CC  CC  CT  \n",
       "3  TC  CC  CT  CC  CC  CT  \n",
       "4  CG  GG  GC  GG  GG  GC  \n",
       "\n",
       "[5 rows x 104 columns]"
      ]
     },
     "execution_count": 6,
     "metadata": {},
     "output_type": "execute_result"
    }
   ],
   "source": [
    "df = pd.read_csv('Learn_sample.txt', delimiter = '\\t', header = None)\n",
    "df.head()"
   ]
  },
  {
   "cell_type": "code",
   "execution_count": 7,
   "metadata": {
    "ExecuteTime": {
     "end_time": "2018-05-07T10:49:51.961853Z",
     "start_time": "2018-05-07T10:49:49.691970Z"
    }
   },
   "outputs": [
    {
     "data": {
      "text/html": [
       "<div>\n",
       "<style scoped>\n",
       "    .dataframe tbody tr th:only-of-type {\n",
       "        vertical-align: middle;\n",
       "    }\n",
       "\n",
       "    .dataframe tbody tr th {\n",
       "        vertical-align: top;\n",
       "    }\n",
       "\n",
       "    .dataframe thead th {\n",
       "        text-align: right;\n",
       "    }\n",
       "</style>\n",
       "<table border=\"1\" class=\"dataframe\">\n",
       "  <thead>\n",
       "    <tr style=\"text-align: right;\">\n",
       "      <th></th>\n",
       "      <th>0</th>\n",
       "      <th>1</th>\n",
       "      <th>2</th>\n",
       "      <th>3</th>\n",
       "      <th>4</th>\n",
       "      <th>5</th>\n",
       "      <th>6</th>\n",
       "      <th>7</th>\n",
       "      <th>8</th>\n",
       "      <th>9</th>\n",
       "      <th>...</th>\n",
       "      <th>94</th>\n",
       "      <th>95</th>\n",
       "      <th>96</th>\n",
       "      <th>97</th>\n",
       "      <th>98</th>\n",
       "      <th>99</th>\n",
       "      <th>100</th>\n",
       "      <th>101</th>\n",
       "      <th>102</th>\n",
       "      <th>103</th>\n",
       "    </tr>\n",
       "  </thead>\n",
       "  <tbody>\n",
       "    <tr>\n",
       "      <th>0</th>\n",
       "      <td>rs200345880</td>\n",
       "      <td>10</td>\n",
       "      <td>82691</td>\n",
       "      <td>NaN</td>\n",
       "      <td>AA</td>\n",
       "      <td>AA</td>\n",
       "      <td>GA</td>\n",
       "      <td>AA</td>\n",
       "      <td>GA</td>\n",
       "      <td>AA</td>\n",
       "      <td>...</td>\n",
       "      <td>GA</td>\n",
       "      <td>GG</td>\n",
       "      <td>GG</td>\n",
       "      <td>GG</td>\n",
       "      <td>GG</td>\n",
       "      <td>GA</td>\n",
       "      <td>GG</td>\n",
       "      <td>GG</td>\n",
       "      <td>GG</td>\n",
       "      <td>GG</td>\n",
       "    </tr>\n",
       "    <tr>\n",
       "      <th>1</th>\n",
       "      <td>rs10751931</td>\n",
       "      <td>10</td>\n",
       "      <td>95949</td>\n",
       "      <td>NaN</td>\n",
       "      <td>TT</td>\n",
       "      <td>TC</td>\n",
       "      <td>TT</td>\n",
       "      <td>TT</td>\n",
       "      <td>TC</td>\n",
       "      <td>CC</td>\n",
       "      <td>...</td>\n",
       "      <td>TT</td>\n",
       "      <td>TT</td>\n",
       "      <td>TT</td>\n",
       "      <td>TT</td>\n",
       "      <td>TT</td>\n",
       "      <td>TC</td>\n",
       "      <td>TT</td>\n",
       "      <td>TT</td>\n",
       "      <td>TT</td>\n",
       "      <td>TT</td>\n",
       "    </tr>\n",
       "    <tr>\n",
       "      <th>2</th>\n",
       "      <td>rs4266997</td>\n",
       "      <td>10</td>\n",
       "      <td>96434</td>\n",
       "      <td>NaN</td>\n",
       "      <td>CC</td>\n",
       "      <td>CT</td>\n",
       "      <td>CC</td>\n",
       "      <td>CC</td>\n",
       "      <td>CT</td>\n",
       "      <td>TT</td>\n",
       "      <td>...</td>\n",
       "      <td>CT</td>\n",
       "      <td>CC</td>\n",
       "      <td>CC</td>\n",
       "      <td>CC</td>\n",
       "      <td>CC</td>\n",
       "      <td>CT</td>\n",
       "      <td>CC</td>\n",
       "      <td>CC</td>\n",
       "      <td>CC</td>\n",
       "      <td>CC</td>\n",
       "    </tr>\n",
       "    <tr>\n",
       "      <th>3</th>\n",
       "      <td>rs4881370</td>\n",
       "      <td>10</td>\n",
       "      <td>109082</td>\n",
       "      <td>NaN</td>\n",
       "      <td>CC</td>\n",
       "      <td>CT</td>\n",
       "      <td>CC</td>\n",
       "      <td>CC</td>\n",
       "      <td>CT</td>\n",
       "      <td>TT</td>\n",
       "      <td>...</td>\n",
       "      <td>CT</td>\n",
       "      <td>CC</td>\n",
       "      <td>CC</td>\n",
       "      <td>CC</td>\n",
       "      <td>CC</td>\n",
       "      <td>CT</td>\n",
       "      <td>CC</td>\n",
       "      <td>CC</td>\n",
       "      <td>CC</td>\n",
       "      <td>CC</td>\n",
       "    </tr>\n",
       "    <tr>\n",
       "      <th>4</th>\n",
       "      <td>rs4242802</td>\n",
       "      <td>10</td>\n",
       "      <td>133998</td>\n",
       "      <td>NaN</td>\n",
       "      <td>GG</td>\n",
       "      <td>GC</td>\n",
       "      <td>GG</td>\n",
       "      <td>GG</td>\n",
       "      <td>GC</td>\n",
       "      <td>CC</td>\n",
       "      <td>...</td>\n",
       "      <td>GC</td>\n",
       "      <td>GG</td>\n",
       "      <td>GG</td>\n",
       "      <td>GG</td>\n",
       "      <td>GG</td>\n",
       "      <td>GC</td>\n",
       "      <td>GG</td>\n",
       "      <td>GG</td>\n",
       "      <td>GG</td>\n",
       "      <td>GG</td>\n",
       "    </tr>\n",
       "  </tbody>\n",
       "</table>\n",
       "<p>5 rows × 104 columns</p>\n",
       "</div>"
      ],
      "text/plain": [
       "           0    1       2    3   4   5   6   7   8   9   ... 94  95  96  97   \\\n",
       "0  rs200345880   10   82691  NaN  AA  AA  GA  AA  GA  AA ...  GA  GG  GG  GG   \n",
       "1   rs10751931   10   95949  NaN  TT  TC  TT  TT  TC  CC ...  TT  TT  TT  TT   \n",
       "2    rs4266997   10   96434  NaN  CC  CT  CC  CC  CT  TT ...  CT  CC  CC  CC   \n",
       "3    rs4881370   10  109082  NaN  CC  CT  CC  CC  CT  TT ...  CT  CC  CC  CC   \n",
       "4    rs4242802   10  133998  NaN  GG  GC  GG  GG  GC  CC ...  GC  GG  GG  GG   \n",
       "\n",
       "  98  99  100 101 102 103  \n",
       "0  GG  GA  GG  GG  GG  GG  \n",
       "1  TT  TC  TT  TT  TT  TT  \n",
       "2  CC  CT  CC  CC  CC  CC  \n",
       "3  CC  CT  CC  CC  CC  CC  \n",
       "4  GG  GC  GG  GG  GG  GG  \n",
       "\n",
       "[5 rows x 104 columns]"
      ]
     },
     "execution_count": 7,
     "metadata": {},
     "output_type": "execute_result"
    }
   ],
   "source": [
    "tdf = pd.read_csv('Test_sample.txt', delimiter = '\\t', header = None)\n",
    "tdf.head()"
   ]
  },
  {
   "cell_type": "code",
   "execution_count": 8,
   "metadata": {
    "ExecuteTime": {
     "end_time": "2018-05-07T10:49:55.279691Z",
     "start_time": "2018-05-07T10:49:55.272554Z"
    }
   },
   "outputs": [],
   "source": [
    "del df[3]\n",
    "del tdf[3]"
   ]
  },
  {
   "cell_type": "code",
   "execution_count": 9,
   "metadata": {
    "ExecuteTime": {
     "end_time": "2018-05-07T10:49:56.715035Z",
     "start_time": "2018-05-07T10:49:56.693254Z"
    }
   },
   "outputs": [
    {
     "data": {
      "text/html": [
       "<div>\n",
       "<style scoped>\n",
       "    .dataframe tbody tr th:only-of-type {\n",
       "        vertical-align: middle;\n",
       "    }\n",
       "\n",
       "    .dataframe tbody tr th {\n",
       "        vertical-align: top;\n",
       "    }\n",
       "\n",
       "    .dataframe thead th {\n",
       "        text-align: right;\n",
       "    }\n",
       "</style>\n",
       "<table border=\"1\" class=\"dataframe\">\n",
       "  <thead>\n",
       "    <tr style=\"text-align: right;\">\n",
       "      <th></th>\n",
       "      <th>0</th>\n",
       "      <th>1</th>\n",
       "      <th>2</th>\n",
       "      <th>4</th>\n",
       "      <th>5</th>\n",
       "      <th>6</th>\n",
       "      <th>7</th>\n",
       "      <th>8</th>\n",
       "      <th>9</th>\n",
       "      <th>10</th>\n",
       "      <th>...</th>\n",
       "      <th>94</th>\n",
       "      <th>95</th>\n",
       "      <th>96</th>\n",
       "      <th>97</th>\n",
       "      <th>98</th>\n",
       "      <th>99</th>\n",
       "      <th>100</th>\n",
       "      <th>101</th>\n",
       "      <th>102</th>\n",
       "      <th>103</th>\n",
       "    </tr>\n",
       "  </thead>\n",
       "  <tbody>\n",
       "    <tr>\n",
       "      <th>0</th>\n",
       "      <td>rs200345880</td>\n",
       "      <td>10</td>\n",
       "      <td>82691</td>\n",
       "      <td>AA</td>\n",
       "      <td>GA</td>\n",
       "      <td>AA</td>\n",
       "      <td>AA</td>\n",
       "      <td>AA</td>\n",
       "      <td>AG</td>\n",
       "      <td>AA</td>\n",
       "      <td>...</td>\n",
       "      <td>GG</td>\n",
       "      <td>GG</td>\n",
       "      <td>GG</td>\n",
       "      <td>GG</td>\n",
       "      <td>AA</td>\n",
       "      <td>GG</td>\n",
       "      <td>GA</td>\n",
       "      <td>GG</td>\n",
       "      <td>GG</td>\n",
       "      <td>GA</td>\n",
       "    </tr>\n",
       "    <tr>\n",
       "      <th>1</th>\n",
       "      <td>rs10751931</td>\n",
       "      <td>10</td>\n",
       "      <td>95949</td>\n",
       "      <td>TC</td>\n",
       "      <td>TC</td>\n",
       "      <td>TC</td>\n",
       "      <td>TC</td>\n",
       "      <td>TT</td>\n",
       "      <td>TT</td>\n",
       "      <td>TC</td>\n",
       "      <td>...</td>\n",
       "      <td>TT</td>\n",
       "      <td>TT</td>\n",
       "      <td>TT</td>\n",
       "      <td>TT</td>\n",
       "      <td>CT</td>\n",
       "      <td>TT</td>\n",
       "      <td>TT</td>\n",
       "      <td>TT</td>\n",
       "      <td>TT</td>\n",
       "      <td>TT</td>\n",
       "    </tr>\n",
       "    <tr>\n",
       "      <th>2</th>\n",
       "      <td>rs4266997</td>\n",
       "      <td>10</td>\n",
       "      <td>96434</td>\n",
       "      <td>CT</td>\n",
       "      <td>CT</td>\n",
       "      <td>CT</td>\n",
       "      <td>CT</td>\n",
       "      <td>CC</td>\n",
       "      <td>CC</td>\n",
       "      <td>CT</td>\n",
       "      <td>...</td>\n",
       "      <td>CC</td>\n",
       "      <td>CC</td>\n",
       "      <td>CC</td>\n",
       "      <td>CC</td>\n",
       "      <td>TC</td>\n",
       "      <td>CC</td>\n",
       "      <td>CT</td>\n",
       "      <td>CC</td>\n",
       "      <td>CC</td>\n",
       "      <td>CT</td>\n",
       "    </tr>\n",
       "    <tr>\n",
       "      <th>3</th>\n",
       "      <td>rs4881370</td>\n",
       "      <td>10</td>\n",
       "      <td>109082</td>\n",
       "      <td>CT</td>\n",
       "      <td>CC</td>\n",
       "      <td>CT</td>\n",
       "      <td>CT</td>\n",
       "      <td>CC</td>\n",
       "      <td>CC</td>\n",
       "      <td>CT</td>\n",
       "      <td>...</td>\n",
       "      <td>CC</td>\n",
       "      <td>CC</td>\n",
       "      <td>CC</td>\n",
       "      <td>CC</td>\n",
       "      <td>TC</td>\n",
       "      <td>CC</td>\n",
       "      <td>CT</td>\n",
       "      <td>CC</td>\n",
       "      <td>CC</td>\n",
       "      <td>CT</td>\n",
       "    </tr>\n",
       "    <tr>\n",
       "      <th>4</th>\n",
       "      <td>rs4242802</td>\n",
       "      <td>10</td>\n",
       "      <td>133998</td>\n",
       "      <td>GC</td>\n",
       "      <td>GG</td>\n",
       "      <td>GC</td>\n",
       "      <td>GC</td>\n",
       "      <td>GG</td>\n",
       "      <td>GG</td>\n",
       "      <td>GC</td>\n",
       "      <td>...</td>\n",
       "      <td>GG</td>\n",
       "      <td>GG</td>\n",
       "      <td>GG</td>\n",
       "      <td>GG</td>\n",
       "      <td>CG</td>\n",
       "      <td>GG</td>\n",
       "      <td>GC</td>\n",
       "      <td>GG</td>\n",
       "      <td>GG</td>\n",
       "      <td>GC</td>\n",
       "    </tr>\n",
       "  </tbody>\n",
       "</table>\n",
       "<p>5 rows × 103 columns</p>\n",
       "</div>"
      ],
      "text/plain": [
       "           0    1       2   4   5   6   7   8   9   10  ... 94  95  96  97   \\\n",
       "0  rs200345880   10   82691  AA  GA  AA  AA  AA  AG  AA ...  GG  GG  GG  GG   \n",
       "1   rs10751931   10   95949  TC  TC  TC  TC  TT  TT  TC ...  TT  TT  TT  TT   \n",
       "2    rs4266997   10   96434  CT  CT  CT  CT  CC  CC  CT ...  CC  CC  CC  CC   \n",
       "3    rs4881370   10  109082  CT  CC  CT  CT  CC  CC  CT ...  CC  CC  CC  CC   \n",
       "4    rs4242802   10  133998  GC  GG  GC  GC  GG  GG  GC ...  GG  GG  GG  GG   \n",
       "\n",
       "  98  99  100 101 102 103  \n",
       "0  AA  GG  GA  GG  GG  GA  \n",
       "1  CT  TT  TT  TT  TT  TT  \n",
       "2  TC  CC  CT  CC  CC  CT  \n",
       "3  TC  CC  CT  CC  CC  CT  \n",
       "4  CG  GG  GC  GG  GG  GC  \n",
       "\n",
       "[5 rows x 103 columns]"
      ]
     },
     "execution_count": 9,
     "metadata": {},
     "output_type": "execute_result"
    }
   ],
   "source": [
    "df.head()"
   ]
  },
  {
   "cell_type": "code",
   "execution_count": 12,
   "metadata": {
    "ExecuteTime": {
     "end_time": "2018-05-07T10:51:39.210385Z",
     "start_time": "2018-05-07T10:51:39.203106Z"
    }
   },
   "outputs": [
    {
     "data": {
      "text/plain": [
       "250000"
      ]
     },
     "execution_count": 12,
     "metadata": {},
     "output_type": "execute_result"
    }
   ],
   "source": [
    "len(df)"
   ]
  },
  {
   "cell_type": "markdown",
   "metadata": {},
   "source": [
    "First columns do not seem useful (at least, two of them). I figured out later that the first column could be split, but it remained useless anyway"
   ]
  },
  {
   "cell_type": "code",
   "execution_count": 13,
   "metadata": {
    "ExecuteTime": {
     "end_time": "2018-05-07T10:51:41.101901Z",
     "start_time": "2018-05-07T10:51:41.049280Z"
    }
   },
   "outputs": [
    {
     "data": {
      "text/plain": [
       "249998"
      ]
     },
     "execution_count": 13,
     "metadata": {},
     "output_type": "execute_result"
    }
   ],
   "source": [
    "len(df[0].unique())"
   ]
  },
  {
   "cell_type": "code",
   "execution_count": 14,
   "metadata": {
    "ExecuteTime": {
     "end_time": "2018-05-07T10:51:41.697463Z",
     "start_time": "2018-05-07T10:51:41.690328Z"
    }
   },
   "outputs": [
    {
     "data": {
      "text/plain": [
       "17"
      ]
     },
     "execution_count": 14,
     "metadata": {},
     "output_type": "execute_result"
    }
   ],
   "source": [
    "len(df[1].unique())"
   ]
  },
  {
   "cell_type": "code",
   "execution_count": 15,
   "metadata": {
    "ExecuteTime": {
     "end_time": "2018-05-07T10:51:42.336538Z",
     "start_time": "2018-05-07T10:51:42.321479Z"
    }
   },
   "outputs": [
    {
     "data": {
      "text/plain": [
       "249842"
      ]
     },
     "execution_count": 15,
     "metadata": {},
     "output_type": "execute_result"
    }
   ],
   "source": [
    "len(df[2].unique())"
   ]
  },
  {
   "cell_type": "code",
   "execution_count": 16,
   "metadata": {
    "ExecuteTime": {
     "end_time": "2018-05-07T10:51:42.876546Z",
     "start_time": "2018-05-07T10:51:42.873408Z"
    }
   },
   "outputs": [
    {
     "data": {
      "text/plain": [
       "250000"
      ]
     },
     "execution_count": 16,
     "metadata": {},
     "output_type": "execute_result"
    }
   ],
   "source": [
    "len(tdf)"
   ]
  },
  {
   "cell_type": "markdown",
   "metadata": {},
   "source": [
    "We need to perform some encoding on markers, so let's concatenate datasets in order to eliminate unseen markers situations later"
   ]
  },
  {
   "cell_type": "code",
   "execution_count": 17,
   "metadata": {
    "ExecuteTime": {
     "end_time": "2018-05-07T10:52:03.485939Z",
     "start_time": "2018-05-07T10:52:02.487008Z"
    }
   },
   "outputs": [
    {
     "data": {
      "text/html": [
       "<div>\n",
       "<style scoped>\n",
       "    .dataframe tbody tr th:only-of-type {\n",
       "        vertical-align: middle;\n",
       "    }\n",
       "\n",
       "    .dataframe tbody tr th {\n",
       "        vertical-align: top;\n",
       "    }\n",
       "\n",
       "    .dataframe thead th {\n",
       "        text-align: right;\n",
       "    }\n",
       "</style>\n",
       "<table border=\"1\" class=\"dataframe\">\n",
       "  <thead>\n",
       "    <tr style=\"text-align: right;\">\n",
       "      <th></th>\n",
       "      <th>0</th>\n",
       "      <th>1</th>\n",
       "      <th>2</th>\n",
       "      <th>4</th>\n",
       "      <th>5</th>\n",
       "      <th>6</th>\n",
       "      <th>7</th>\n",
       "      <th>8</th>\n",
       "      <th>9</th>\n",
       "      <th>10</th>\n",
       "      <th>...</th>\n",
       "      <th>94</th>\n",
       "      <th>95</th>\n",
       "      <th>96</th>\n",
       "      <th>97</th>\n",
       "      <th>98</th>\n",
       "      <th>99</th>\n",
       "      <th>100</th>\n",
       "      <th>101</th>\n",
       "      <th>102</th>\n",
       "      <th>103</th>\n",
       "    </tr>\n",
       "  </thead>\n",
       "  <tbody>\n",
       "    <tr>\n",
       "      <th>0</th>\n",
       "      <td>rs200345880</td>\n",
       "      <td>10</td>\n",
       "      <td>82691</td>\n",
       "      <td>AA</td>\n",
       "      <td>GA</td>\n",
       "      <td>AA</td>\n",
       "      <td>AA</td>\n",
       "      <td>AA</td>\n",
       "      <td>AG</td>\n",
       "      <td>AA</td>\n",
       "      <td>...</td>\n",
       "      <td>GG</td>\n",
       "      <td>GG</td>\n",
       "      <td>GG</td>\n",
       "      <td>GG</td>\n",
       "      <td>AA</td>\n",
       "      <td>GG</td>\n",
       "      <td>GA</td>\n",
       "      <td>GG</td>\n",
       "      <td>GG</td>\n",
       "      <td>GA</td>\n",
       "    </tr>\n",
       "    <tr>\n",
       "      <th>1</th>\n",
       "      <td>rs10751931</td>\n",
       "      <td>10</td>\n",
       "      <td>95949</td>\n",
       "      <td>TC</td>\n",
       "      <td>TC</td>\n",
       "      <td>TC</td>\n",
       "      <td>TC</td>\n",
       "      <td>TT</td>\n",
       "      <td>TT</td>\n",
       "      <td>TC</td>\n",
       "      <td>...</td>\n",
       "      <td>TT</td>\n",
       "      <td>TT</td>\n",
       "      <td>TT</td>\n",
       "      <td>TT</td>\n",
       "      <td>CT</td>\n",
       "      <td>TT</td>\n",
       "      <td>TT</td>\n",
       "      <td>TT</td>\n",
       "      <td>TT</td>\n",
       "      <td>TT</td>\n",
       "    </tr>\n",
       "    <tr>\n",
       "      <th>2</th>\n",
       "      <td>rs4266997</td>\n",
       "      <td>10</td>\n",
       "      <td>96434</td>\n",
       "      <td>CT</td>\n",
       "      <td>CT</td>\n",
       "      <td>CT</td>\n",
       "      <td>CT</td>\n",
       "      <td>CC</td>\n",
       "      <td>CC</td>\n",
       "      <td>CT</td>\n",
       "      <td>...</td>\n",
       "      <td>CC</td>\n",
       "      <td>CC</td>\n",
       "      <td>CC</td>\n",
       "      <td>CC</td>\n",
       "      <td>TC</td>\n",
       "      <td>CC</td>\n",
       "      <td>CT</td>\n",
       "      <td>CC</td>\n",
       "      <td>CC</td>\n",
       "      <td>CT</td>\n",
       "    </tr>\n",
       "    <tr>\n",
       "      <th>3</th>\n",
       "      <td>rs4881370</td>\n",
       "      <td>10</td>\n",
       "      <td>109082</td>\n",
       "      <td>CT</td>\n",
       "      <td>CC</td>\n",
       "      <td>CT</td>\n",
       "      <td>CT</td>\n",
       "      <td>CC</td>\n",
       "      <td>CC</td>\n",
       "      <td>CT</td>\n",
       "      <td>...</td>\n",
       "      <td>CC</td>\n",
       "      <td>CC</td>\n",
       "      <td>CC</td>\n",
       "      <td>CC</td>\n",
       "      <td>TC</td>\n",
       "      <td>CC</td>\n",
       "      <td>CT</td>\n",
       "      <td>CC</td>\n",
       "      <td>CC</td>\n",
       "      <td>CT</td>\n",
       "    </tr>\n",
       "    <tr>\n",
       "      <th>4</th>\n",
       "      <td>rs4242802</td>\n",
       "      <td>10</td>\n",
       "      <td>133998</td>\n",
       "      <td>GC</td>\n",
       "      <td>GG</td>\n",
       "      <td>GC</td>\n",
       "      <td>GC</td>\n",
       "      <td>GG</td>\n",
       "      <td>GG</td>\n",
       "      <td>GC</td>\n",
       "      <td>...</td>\n",
       "      <td>GG</td>\n",
       "      <td>GG</td>\n",
       "      <td>GG</td>\n",
       "      <td>GG</td>\n",
       "      <td>CG</td>\n",
       "      <td>GG</td>\n",
       "      <td>GC</td>\n",
       "      <td>GG</td>\n",
       "      <td>GG</td>\n",
       "      <td>GC</td>\n",
       "    </tr>\n",
       "  </tbody>\n",
       "</table>\n",
       "<p>5 rows × 103 columns</p>\n",
       "</div>"
      ],
      "text/plain": [
       "           0    1       2   4   5   6   7   8   9   10  ... 94  95  96  97   \\\n",
       "0  rs200345880   10   82691  AA  GA  AA  AA  AA  AG  AA ...  GG  GG  GG  GG   \n",
       "1   rs10751931   10   95949  TC  TC  TC  TC  TT  TT  TC ...  TT  TT  TT  TT   \n",
       "2    rs4266997   10   96434  CT  CT  CT  CT  CC  CC  CT ...  CC  CC  CC  CC   \n",
       "3    rs4881370   10  109082  CT  CC  CT  CT  CC  CC  CT ...  CC  CC  CC  CC   \n",
       "4    rs4242802   10  133998  GC  GG  GC  GC  GG  GG  GC ...  GG  GG  GG  GG   \n",
       "\n",
       "  98  99  100 101 102 103  \n",
       "0  AA  GG  GA  GG  GG  GA  \n",
       "1  CT  TT  TT  TT  TT  TT  \n",
       "2  TC  CC  CT  CC  CC  CT  \n",
       "3  TC  CC  CT  CC  CC  CT  \n",
       "4  CG  GG  GC  GG  GG  GC  \n",
       "\n",
       "[5 rows x 103 columns]"
      ]
     },
     "execution_count": 17,
     "metadata": {},
     "output_type": "execute_result"
    }
   ],
   "source": [
    "fulldf = pd.concat([df, tdf], ignore_index = True)\n",
    "fulldf.head()"
   ]
  },
  {
   "cell_type": "markdown",
   "metadata": {},
   "source": [
    "let's see how many markers there are in the dataset"
   ]
  },
  {
   "cell_type": "code",
   "execution_count": 18,
   "metadata": {
    "ExecuteTime": {
     "end_time": "2018-05-07T10:52:05.532527Z",
     "start_time": "2018-05-07T10:52:05.512294Z"
    }
   },
   "outputs": [
    {
     "data": {
      "text/plain": [
       "343"
      ]
     },
     "execution_count": 18,
     "metadata": {},
     "output_type": "execute_result"
    }
   ],
   "source": [
    "len(fulldf[6].unique())"
   ]
  },
  {
   "cell_type": "code",
   "execution_count": 19,
   "metadata": {
    "ExecuteTime": {
     "end_time": "2018-05-07T10:52:51.647961Z",
     "start_time": "2018-05-07T10:52:09.644170Z"
    }
   },
   "outputs": [
    {
     "data": {
      "text/plain": [
       "1196"
      ]
     },
     "execution_count": 19,
     "metadata": {},
     "output_type": "execute_result"
    }
   ],
   "source": [
    "len(np.unique(fulldf.iloc[:, 3:].values.flatten()))"
   ]
  },
  {
   "cell_type": "markdown",
   "metadata": {},
   "source": [
    "# Transform Data"
   ]
  },
  {
   "cell_type": "markdown",
   "metadata": {},
   "source": [
    "encoding procedure - gathering all possible markers, flattening, categorization, encoding, reshaping again"
   ]
  },
  {
   "cell_type": "code",
   "execution_count": 20,
   "metadata": {
    "ExecuteTime": {
     "end_time": "2018-05-07T10:53:01.468871Z",
     "start_time": "2018-05-07T10:52:58.753330Z"
    }
   },
   "outputs": [
    {
     "data": {
      "text/plain": [
       "(500000, 100)"
      ]
     },
     "execution_count": 20,
     "metadata": {},
     "output_type": "execute_result"
    }
   ],
   "source": [
    "markers_df = pd.DataFrame(fulldf.iloc[:, 3:].values.flatten(), columns = ['marker'])\n",
    "markers_df['marker'] = markers_df['marker'].astype('category')\n",
    "markers_cat = markers_df['marker'].cat.codes.values.reshape(-1, 100)\n",
    "markers_cat.shape"
   ]
  },
  {
   "cell_type": "markdown",
   "metadata": {},
   "source": [
    "replacing markers with encoded data"
   ]
  },
  {
   "cell_type": "code",
   "execution_count": 21,
   "metadata": {
    "ExecuteTime": {
     "end_time": "2018-05-07T10:53:04.486954Z",
     "start_time": "2018-05-07T10:53:04.069670Z"
    }
   },
   "outputs": [
    {
     "data": {
      "text/html": [
       "<div>\n",
       "<style scoped>\n",
       "    .dataframe tbody tr th:only-of-type {\n",
       "        vertical-align: middle;\n",
       "    }\n",
       "\n",
       "    .dataframe tbody tr th {\n",
       "        vertical-align: top;\n",
       "    }\n",
       "\n",
       "    .dataframe thead th {\n",
       "        text-align: right;\n",
       "    }\n",
       "</style>\n",
       "<table border=\"1\" class=\"dataframe\">\n",
       "  <thead>\n",
       "    <tr style=\"text-align: right;\">\n",
       "      <th></th>\n",
       "      <th>0</th>\n",
       "      <th>1</th>\n",
       "      <th>2</th>\n",
       "      <th>3</th>\n",
       "      <th>4</th>\n",
       "      <th>5</th>\n",
       "      <th>6</th>\n",
       "      <th>7</th>\n",
       "      <th>8</th>\n",
       "      <th>9</th>\n",
       "      <th>...</th>\n",
       "      <th>93</th>\n",
       "      <th>94</th>\n",
       "      <th>95</th>\n",
       "      <th>96</th>\n",
       "      <th>97</th>\n",
       "      <th>98</th>\n",
       "      <th>99</th>\n",
       "      <th>100</th>\n",
       "      <th>101</th>\n",
       "      <th>102</th>\n",
       "    </tr>\n",
       "  </thead>\n",
       "  <tbody>\n",
       "    <tr>\n",
       "      <th>0</th>\n",
       "      <td>rs200345880</td>\n",
       "      <td>10</td>\n",
       "      <td>82691</td>\n",
       "      <td>0</td>\n",
       "      <td>658</td>\n",
       "      <td>0</td>\n",
       "      <td>0</td>\n",
       "      <td>0</td>\n",
       "      <td>145</td>\n",
       "      <td>0</td>\n",
       "      <td>...</td>\n",
       "      <td>759</td>\n",
       "      <td>759</td>\n",
       "      <td>759</td>\n",
       "      <td>759</td>\n",
       "      <td>0</td>\n",
       "      <td>759</td>\n",
       "      <td>658</td>\n",
       "      <td>759</td>\n",
       "      <td>759</td>\n",
       "      <td>658</td>\n",
       "    </tr>\n",
       "    <tr>\n",
       "      <th>1</th>\n",
       "      <td>rs10751931</td>\n",
       "      <td>10</td>\n",
       "      <td>95949</td>\n",
       "      <td>975</td>\n",
       "      <td>975</td>\n",
       "      <td>975</td>\n",
       "      <td>975</td>\n",
       "      <td>1089</td>\n",
       "      <td>1089</td>\n",
       "      <td>975</td>\n",
       "      <td>...</td>\n",
       "      <td>1089</td>\n",
       "      <td>1089</td>\n",
       "      <td>1089</td>\n",
       "      <td>1089</td>\n",
       "      <td>569</td>\n",
       "      <td>1089</td>\n",
       "      <td>1089</td>\n",
       "      <td>1089</td>\n",
       "      <td>1089</td>\n",
       "      <td>1089</td>\n",
       "    </tr>\n",
       "    <tr>\n",
       "      <th>2</th>\n",
       "      <td>rs4266997</td>\n",
       "      <td>10</td>\n",
       "      <td>96434</td>\n",
       "      <td>569</td>\n",
       "      <td>569</td>\n",
       "      <td>569</td>\n",
       "      <td>569</td>\n",
       "      <td>427</td>\n",
       "      <td>427</td>\n",
       "      <td>569</td>\n",
       "      <td>...</td>\n",
       "      <td>427</td>\n",
       "      <td>427</td>\n",
       "      <td>427</td>\n",
       "      <td>427</td>\n",
       "      <td>975</td>\n",
       "      <td>427</td>\n",
       "      <td>569</td>\n",
       "      <td>427</td>\n",
       "      <td>427</td>\n",
       "      <td>569</td>\n",
       "    </tr>\n",
       "    <tr>\n",
       "      <th>3</th>\n",
       "      <td>rs4881370</td>\n",
       "      <td>10</td>\n",
       "      <td>109082</td>\n",
       "      <td>569</td>\n",
       "      <td>427</td>\n",
       "      <td>569</td>\n",
       "      <td>569</td>\n",
       "      <td>427</td>\n",
       "      <td>427</td>\n",
       "      <td>569</td>\n",
       "      <td>...</td>\n",
       "      <td>427</td>\n",
       "      <td>427</td>\n",
       "      <td>427</td>\n",
       "      <td>427</td>\n",
       "      <td>975</td>\n",
       "      <td>427</td>\n",
       "      <td>569</td>\n",
       "      <td>427</td>\n",
       "      <td>427</td>\n",
       "      <td>569</td>\n",
       "    </tr>\n",
       "    <tr>\n",
       "      <th>4</th>\n",
       "      <td>rs4242802</td>\n",
       "      <td>10</td>\n",
       "      <td>133998</td>\n",
       "      <td>726</td>\n",
       "      <td>759</td>\n",
       "      <td>726</td>\n",
       "      <td>726</td>\n",
       "      <td>759</td>\n",
       "      <td>759</td>\n",
       "      <td>726</td>\n",
       "      <td>...</td>\n",
       "      <td>759</td>\n",
       "      <td>759</td>\n",
       "      <td>759</td>\n",
       "      <td>759</td>\n",
       "      <td>523</td>\n",
       "      <td>759</td>\n",
       "      <td>726</td>\n",
       "      <td>759</td>\n",
       "      <td>759</td>\n",
       "      <td>726</td>\n",
       "    </tr>\n",
       "  </tbody>\n",
       "</table>\n",
       "<p>5 rows × 103 columns</p>\n",
       "</div>"
      ],
      "text/plain": [
       "           0    1       2    3    4    5    6     7     8    9    ...    93   \\\n",
       "0  rs200345880   10   82691    0  658    0    0     0   145    0  ...    759   \n",
       "1   rs10751931   10   95949  975  975  975  975  1089  1089  975  ...   1089   \n",
       "2    rs4266997   10   96434  569  569  569  569   427   427  569  ...    427   \n",
       "3    rs4881370   10  109082  569  427  569  569   427   427  569  ...    427   \n",
       "4    rs4242802   10  133998  726  759  726  726   759   759  726  ...    759   \n",
       "\n",
       "    94    95    96   97    98    99    100   101   102  \n",
       "0   759   759   759    0   759   658   759   759   658  \n",
       "1  1089  1089  1089  569  1089  1089  1089  1089  1089  \n",
       "2   427   427   427  975   427   569   427   427   569  \n",
       "3   427   427   427  975   427   569   427   427   569  \n",
       "4   759   759   759  523   759   726   759   759   726  \n",
       "\n",
       "[5 rows x 103 columns]"
      ]
     },
     "execution_count": 21,
     "metadata": {},
     "output_type": "execute_result"
    }
   ],
   "source": [
    "fulldf_cats = fulldf.iloc[:, 0:3].copy()\n",
    "for i in np.arange(0, markers_cat.shape[1], 1) + 3:\n",
    "    fulldf_cats[i] = markers_cat[:, i - 3]\n",
    "fulldf_cats.head()"
   ]
  },
  {
   "cell_type": "markdown",
   "metadata": {},
   "source": [
    "saving codes for later use"
   ]
  },
  {
   "cell_type": "code",
   "execution_count": 22,
   "metadata": {
    "ExecuteTime": {
     "end_time": "2018-05-07T10:53:10.566933Z",
     "start_time": "2018-05-07T10:53:09.667801Z"
    }
   },
   "outputs": [],
   "source": [
    "codes = np.unique(markers_df['marker'].cat.codes.values)"
   ]
  },
  {
   "cell_type": "code",
   "execution_count": 23,
   "metadata": {
    "ExecuteTime": {
     "end_time": "2018-05-07T10:53:13.106912Z",
     "start_time": "2018-05-07T10:53:11.540190Z"
    }
   },
   "outputs": [
    {
     "data": {
      "text/plain": [
       "1196"
      ]
     },
     "execution_count": 23,
     "metadata": {},
     "output_type": "execute_result"
    }
   ],
   "source": [
    "markers_df['marker_code'] = markers_df['marker'].cat.codes.values\n",
    "mdict = markers_df[['marker', 'marker_code']].copy().drop_duplicates()\n",
    "len(mdict)"
   ]
  },
  {
   "cell_type": "code",
   "execution_count": 26,
   "metadata": {
    "ExecuteTime": {
     "end_time": "2018-05-07T10:54:06.406884Z",
     "start_time": "2018-05-07T10:54:04.857980Z"
    }
   },
   "outputs": [],
   "source": [
    "mdict = markers_df[['marker', 'marker_code']].copy().drop_duplicates()"
   ]
  },
  {
   "cell_type": "code",
   "execution_count": 27,
   "metadata": {
    "ExecuteTime": {
     "end_time": "2018-05-07T10:54:07.500914Z",
     "start_time": "2018-05-07T10:54:07.421246Z"
    }
   },
   "outputs": [],
   "source": [
    "mdict.reset_index(inplace = True)\n",
    "del mdict['index']\n",
    "mdict.to_feather('mdict.feather')"
   ]
  },
  {
   "cell_type": "code",
   "execution_count": 28,
   "metadata": {
    "ExecuteTime": {
     "end_time": "2018-05-07T10:54:12.299468Z",
     "start_time": "2018-05-07T10:54:12.286935Z"
    }
   },
   "outputs": [
    {
     "data": {
      "text/html": [
       "<div>\n",
       "<style scoped>\n",
       "    .dataframe tbody tr th:only-of-type {\n",
       "        vertical-align: middle;\n",
       "    }\n",
       "\n",
       "    .dataframe tbody tr th {\n",
       "        vertical-align: top;\n",
       "    }\n",
       "\n",
       "    .dataframe thead th {\n",
       "        text-align: right;\n",
       "    }\n",
       "</style>\n",
       "<table border=\"1\" class=\"dataframe\">\n",
       "  <thead>\n",
       "    <tr style=\"text-align: right;\">\n",
       "      <th></th>\n",
       "      <th>marker</th>\n",
       "      <th>marker_code</th>\n",
       "    </tr>\n",
       "  </thead>\n",
       "  <tbody>\n",
       "    <tr>\n",
       "      <th>84</th>\n",
       "      <td>TTTTTTG</td>\n",
       "      <td>1195</td>\n",
       "    </tr>\n",
       "  </tbody>\n",
       "</table>\n",
       "</div>"
      ],
      "text/plain": [
       "     marker  marker_code\n",
       "84  TTTTTTG         1195"
      ]
     },
     "execution_count": 28,
     "metadata": {},
     "output_type": "execute_result"
    }
   ],
   "source": [
    "mdict[mdict['marker_code'] == 1195]"
   ]
  },
  {
   "cell_type": "markdown",
   "metadata": {},
   "source": [
    "Split data into train and test samples again"
   ]
  },
  {
   "cell_type": "code",
   "execution_count": 29,
   "metadata": {
    "ExecuteTime": {
     "end_time": "2018-05-07T10:57:13.853240Z",
     "start_time": "2018-05-07T10:57:13.796300Z"
    }
   },
   "outputs": [],
   "source": [
    "df_cats = fulldf_cats.iloc[0:250000, :].copy()\n",
    "tdf_cats = fulldf_cats.iloc[250000:, :].copy()"
   ]
  },
  {
   "cell_type": "markdown",
   "metadata": {},
   "source": [
    "checking the first column unique data after splitting values in it"
   ]
  },
  {
   "cell_type": "code",
   "execution_count": 31,
   "metadata": {
    "ExecuteTime": {
     "end_time": "2018-05-07T10:58:39.873279Z",
     "start_time": "2018-05-07T10:58:39.355319Z"
    }
   },
   "outputs": [
    {
     "data": {
      "text/plain": [
       "250693"
      ]
     },
     "execution_count": 31,
     "metadata": {},
     "output_type": "execute_result"
    }
   ],
   "source": [
    "marker_labels_set = set([x for l in fulldf_cats[0].apply(lambda x: x.split(';')) for x in l])\n",
    "len(marker_labels_set)"
   ]
  },
  {
   "cell_type": "markdown",
   "metadata": {
    "ExecuteTime": {
     "end_time": "2018-05-07T12:03:06.289579Z",
     "start_time": "2018-05-07T12:03:06.284456Z"
    }
   },
   "source": [
    "Transpose matrices (since columns are people)"
   ]
  },
  {
   "cell_type": "code",
   "execution_count": 32,
   "metadata": {
    "ExecuteTime": {
     "end_time": "2018-05-07T11:01:56.580023Z",
     "start_time": "2018-05-07T11:01:51.191578Z"
    }
   },
   "outputs": [],
   "source": [
    "df_cats = df_cats.T.copy()\n",
    "tdf_cats = tdf_cats.T.copy()"
   ]
  },
  {
   "cell_type": "code",
   "execution_count": 34,
   "metadata": {
    "ExecuteTime": {
     "end_time": "2018-05-07T11:02:54.131774Z",
     "start_time": "2018-05-07T11:02:54.099584Z"
    }
   },
   "outputs": [
    {
     "data": {
      "text/html": [
       "<div>\n",
       "<style scoped>\n",
       "    .dataframe tbody tr th:only-of-type {\n",
       "        vertical-align: middle;\n",
       "    }\n",
       "\n",
       "    .dataframe tbody tr th {\n",
       "        vertical-align: top;\n",
       "    }\n",
       "\n",
       "    .dataframe thead th {\n",
       "        text-align: right;\n",
       "    }\n",
       "</style>\n",
       "<table border=\"1\" class=\"dataframe\">\n",
       "  <thead>\n",
       "    <tr style=\"text-align: right;\">\n",
       "      <th></th>\n",
       "      <th>0</th>\n",
       "      <th>1</th>\n",
       "      <th>2</th>\n",
       "      <th>3</th>\n",
       "      <th>4</th>\n",
       "      <th>5</th>\n",
       "      <th>6</th>\n",
       "      <th>7</th>\n",
       "      <th>8</th>\n",
       "      <th>9</th>\n",
       "      <th>...</th>\n",
       "      <th>249990</th>\n",
       "      <th>249991</th>\n",
       "      <th>249992</th>\n",
       "      <th>249993</th>\n",
       "      <th>249994</th>\n",
       "      <th>249995</th>\n",
       "      <th>249996</th>\n",
       "      <th>249997</th>\n",
       "      <th>249998</th>\n",
       "      <th>249999</th>\n",
       "    </tr>\n",
       "  </thead>\n",
       "  <tbody>\n",
       "    <tr>\n",
       "      <th>0</th>\n",
       "      <td>rs200345880</td>\n",
       "      <td>rs10751931</td>\n",
       "      <td>rs4266997</td>\n",
       "      <td>rs4881370</td>\n",
       "      <td>rs4242802</td>\n",
       "      <td>rs9419554</td>\n",
       "      <td>rs4881552</td>\n",
       "      <td>rs10903349</td>\n",
       "      <td>rs11594819</td>\n",
       "      <td>rs4469806</td>\n",
       "      <td>...</td>\n",
       "      <td>rs4355430</td>\n",
       "      <td>rs6830755</td>\n",
       "      <td>rs6817563</td>\n",
       "      <td>rs11723800</td>\n",
       "      <td>rs7654368</td>\n",
       "      <td>rs4862481</td>\n",
       "      <td>rs7694916</td>\n",
       "      <td>rs7675638</td>\n",
       "      <td>rs34276979</td>\n",
       "      <td>rs11132271</td>\n",
       "    </tr>\n",
       "    <tr>\n",
       "      <th>1</th>\n",
       "      <td>10</td>\n",
       "      <td>10</td>\n",
       "      <td>10</td>\n",
       "      <td>10</td>\n",
       "      <td>10</td>\n",
       "      <td>10</td>\n",
       "      <td>10</td>\n",
       "      <td>10</td>\n",
       "      <td>10</td>\n",
       "      <td>10</td>\n",
       "      <td>...</td>\n",
       "      <td>4</td>\n",
       "      <td>4</td>\n",
       "      <td>4</td>\n",
       "      <td>4</td>\n",
       "      <td>4</td>\n",
       "      <td>4</td>\n",
       "      <td>4</td>\n",
       "      <td>4</td>\n",
       "      <td>4</td>\n",
       "      <td>4</td>\n",
       "    </tr>\n",
       "    <tr>\n",
       "      <th>2</th>\n",
       "      <td>82691</td>\n",
       "      <td>95949</td>\n",
       "      <td>96434</td>\n",
       "      <td>109082</td>\n",
       "      <td>133998</td>\n",
       "      <td>135237</td>\n",
       "      <td>159299</td>\n",
       "      <td>160478</td>\n",
       "      <td>162102</td>\n",
       "      <td>171117</td>\n",
       "      <td>...</td>\n",
       "      <td>185885897</td>\n",
       "      <td>185889178</td>\n",
       "      <td>185890485</td>\n",
       "      <td>185896240</td>\n",
       "      <td>185896851</td>\n",
       "      <td>185910197</td>\n",
       "      <td>185917159</td>\n",
       "      <td>185917578</td>\n",
       "      <td>185925147</td>\n",
       "      <td>185927594</td>\n",
       "    </tr>\n",
       "    <tr>\n",
       "      <th>3</th>\n",
       "      <td>0</td>\n",
       "      <td>975</td>\n",
       "      <td>569</td>\n",
       "      <td>569</td>\n",
       "      <td>726</td>\n",
       "      <td>658</td>\n",
       "      <td>899</td>\n",
       "      <td>658</td>\n",
       "      <td>0</td>\n",
       "      <td>145</td>\n",
       "      <td>...</td>\n",
       "      <td>569</td>\n",
       "      <td>899</td>\n",
       "      <td>569</td>\n",
       "      <td>1089</td>\n",
       "      <td>1089</td>\n",
       "      <td>0</td>\n",
       "      <td>427</td>\n",
       "      <td>759</td>\n",
       "      <td>759</td>\n",
       "      <td>975</td>\n",
       "    </tr>\n",
       "    <tr>\n",
       "      <th>4</th>\n",
       "      <td>658</td>\n",
       "      <td>975</td>\n",
       "      <td>569</td>\n",
       "      <td>427</td>\n",
       "      <td>759</td>\n",
       "      <td>759</td>\n",
       "      <td>1089</td>\n",
       "      <td>759</td>\n",
       "      <td>0</td>\n",
       "      <td>0</td>\n",
       "      <td>...</td>\n",
       "      <td>427</td>\n",
       "      <td>1089</td>\n",
       "      <td>427</td>\n",
       "      <td>209</td>\n",
       "      <td>569</td>\n",
       "      <td>0</td>\n",
       "      <td>975</td>\n",
       "      <td>759</td>\n",
       "      <td>759</td>\n",
       "      <td>427</td>\n",
       "    </tr>\n",
       "  </tbody>\n",
       "</table>\n",
       "<p>5 rows × 250000 columns</p>\n",
       "</div>"
      ],
      "text/plain": [
       "        0           1          2          3          4          5       \\\n",
       "0  rs200345880  rs10751931  rs4266997  rs4881370  rs4242802  rs9419554   \n",
       "1           10          10         10         10         10         10   \n",
       "2        82691       95949      96434     109082     133998     135237   \n",
       "3            0         975        569        569        726        658   \n",
       "4          658         975        569        427        759        759   \n",
       "\n",
       "      6           7           8          9          ...         249990  \\\n",
       "0  rs4881552  rs10903349  rs11594819  rs4469806     ...      rs4355430   \n",
       "1         10          10          10         10     ...              4   \n",
       "2     159299      160478      162102     171117     ...      185885897   \n",
       "3        899         658           0        145     ...            569   \n",
       "4       1089         759           0          0     ...            427   \n",
       "\n",
       "      249991     249992      249993     249994     249995     249996  \\\n",
       "0  rs6830755  rs6817563  rs11723800  rs7654368  rs4862481  rs7694916   \n",
       "1          4          4           4          4          4          4   \n",
       "2  185889178  185890485   185896240  185896851  185910197  185917159   \n",
       "3        899        569        1089       1089          0        427   \n",
       "4       1089        427         209        569          0        975   \n",
       "\n",
       "      249997      249998      249999  \n",
       "0  rs7675638  rs34276979  rs11132271  \n",
       "1          4           4           4  \n",
       "2  185917578   185925147   185927594  \n",
       "3        759         759         975  \n",
       "4        759         759         427  \n",
       "\n",
       "[5 rows x 250000 columns]"
      ]
     },
     "execution_count": 34,
     "metadata": {},
     "output_type": "execute_result"
    }
   ],
   "source": [
    "df_cats.head()"
   ]
  },
  {
   "cell_type": "code",
   "execution_count": 36,
   "metadata": {
    "ExecuteTime": {
     "end_time": "2018-05-07T11:03:50.177010Z",
     "start_time": "2018-05-07T11:03:50.171386Z"
    }
   },
   "outputs": [
    {
     "data": {
      "text/plain": [
       "103"
      ]
     },
     "execution_count": 36,
     "metadata": {},
     "output_type": "execute_result"
    }
   ],
   "source": [
    "len(df_cats)"
   ]
  },
  {
   "cell_type": "markdown",
   "metadata": {},
   "source": [
    "# PCA"
   ]
  },
  {
   "cell_type": "code",
   "execution_count": 64,
   "metadata": {
    "ExecuteTime": {
     "end_time": "2018-05-07T11:06:21.302461Z",
     "start_time": "2018-05-07T11:06:21.287733Z"
    }
   },
   "outputs": [],
   "source": [
    "pca = PCA(n_components=99)"
   ]
  },
  {
   "cell_type": "code",
   "execution_count": 65,
   "metadata": {
    "ExecuteTime": {
     "end_time": "2018-05-07T11:06:25.987741Z",
     "start_time": "2018-05-07T11:06:22.163176Z"
    }
   },
   "outputs": [
    {
     "data": {
      "text/plain": [
       "(100, 99)"
      ]
     },
     "execution_count": 65,
     "metadata": {},
     "output_type": "execute_result"
    }
   ],
   "source": [
    "components = pca.fit_transform(df_cats.iloc[3:, :].values)\n",
    "components.shape"
   ]
  },
  {
   "cell_type": "code",
   "execution_count": 66,
   "metadata": {
    "ExecuteTime": {
     "end_time": "2018-05-07T11:06:26.784329Z",
     "start_time": "2018-05-07T11:06:26.770908Z"
    }
   },
   "outputs": [
    {
     "data": {
      "text/plain": [
       "array([0.12732241, 0.01069726, 0.01060533, 0.01023335, 0.01010467,\n",
       "       0.00994874, 0.00993605, 0.00990712, 0.00979929, 0.00977562,\n",
       "       0.00975822, 0.0097249 , 0.00966922, 0.00965333, 0.00963804,\n",
       "       0.0095944 , 0.00954213, 0.00949253, 0.00948093, 0.00947214,\n",
       "       0.00945701, 0.0094361 , 0.00939883, 0.00938791, 0.00937087,\n",
       "       0.00936315, 0.00932384, 0.00931112, 0.00929999, 0.00925231,\n",
       "       0.0092224 , 0.00921732, 0.00921351, 0.00917996, 0.0091571 ,\n",
       "       0.00913732, 0.00910092, 0.00909356, 0.00906584, 0.00903752,\n",
       "       0.00903016, 0.0090216 , 0.00899177, 0.00898444, 0.00896948,\n",
       "       0.0089371 , 0.00893577, 0.00890982, 0.00887874, 0.00886232,\n",
       "       0.0088562 , 0.00882916, 0.00881137, 0.0087991 , 0.00878931,\n",
       "       0.00878354, 0.00873376, 0.00872332, 0.00868687, 0.0086816 ,\n",
       "       0.00867142, 0.00865058, 0.00863995, 0.00861588, 0.00860814,\n",
       "       0.00857514, 0.00853858, 0.00851628, 0.00850768, 0.00849503,\n",
       "       0.00848194, 0.00847009, 0.008448  , 0.00842984, 0.00840877,\n",
       "       0.00839218, 0.00836929, 0.00836016, 0.00833241, 0.00831687,\n",
       "       0.00830551, 0.00826465, 0.00823379, 0.00822937, 0.00821566,\n",
       "       0.00821131, 0.00819297, 0.00815122, 0.00813022, 0.00812921,\n",
       "       0.00808569, 0.0080432 , 0.00803925, 0.00798179, 0.00793521,\n",
       "       0.00788692, 0.00787562, 0.00785933, 0.00780319])"
      ]
     },
     "execution_count": 66,
     "metadata": {},
     "output_type": "execute_result"
    }
   ],
   "source": [
    "pca.explained_variance_ratio_"
   ]
  },
  {
   "cell_type": "markdown",
   "metadata": {},
   "source": [
    "99 components sum up to 100% explained variance. "
   ]
  },
  {
   "cell_type": "code",
   "execution_count": 68,
   "metadata": {
    "ExecuteTime": {
     "end_time": "2018-05-07T11:06:53.580644Z",
     "start_time": "2018-05-07T11:06:53.573416Z"
    }
   },
   "outputs": [
    {
     "data": {
      "text/plain": [
       "1.0"
      ]
     },
     "execution_count": 68,
     "metadata": {},
     "output_type": "execute_result"
    }
   ],
   "source": [
    "np.sum(pca.explained_variance_ratio_)"
   ]
  },
  {
   "cell_type": "code",
   "execution_count": 118,
   "metadata": {
    "ExecuteTime": {
     "end_time": "2018-05-07T11:46:56.717885Z",
     "start_time": "2018-05-07T11:46:56.333302Z"
    }
   },
   "outputs": [],
   "source": [
    "joblib.dump(pca, 'pca.pkl')\n",
    "pca = joblib.load('pca.pkl')"
   ]
  },
  {
   "cell_type": "markdown",
   "metadata": {},
   "source": [
    "## Visualize train"
   ]
  },
  {
   "cell_type": "markdown",
   "metadata": {},
   "source": [
    "In some projections two clusters appear clearly."
   ]
  },
  {
   "cell_type": "code",
   "execution_count": 70,
   "metadata": {
    "ExecuteTime": {
     "end_time": "2018-05-07T11:08:17.351502Z",
     "start_time": "2018-05-07T11:08:17.347219Z"
    }
   },
   "outputs": [],
   "source": [
    "sns.set()\n",
    "sns.set_style('white', {'axes.grid': False, 'axes.edgecolor': '0.9'})"
   ]
  },
  {
   "cell_type": "code",
   "execution_count": 71,
   "metadata": {
    "ExecuteTime": {
     "end_time": "2018-05-07T11:08:18.127377Z",
     "start_time": "2018-05-07T11:08:18.124272Z"
    }
   },
   "outputs": [],
   "source": [
    "columns = ['pca{}'.format(x) for x in np.arange(1, 100, 1)]"
   ]
  },
  {
   "cell_type": "code",
   "execution_count": 72,
   "metadata": {
    "ExecuteTime": {
     "end_time": "2018-05-07T11:08:18.876955Z",
     "start_time": "2018-05-07T11:08:18.852896Z"
    }
   },
   "outputs": [
    {
     "data": {
      "text/html": [
       "<div>\n",
       "<style scoped>\n",
       "    .dataframe tbody tr th:only-of-type {\n",
       "        vertical-align: middle;\n",
       "    }\n",
       "\n",
       "    .dataframe tbody tr th {\n",
       "        vertical-align: top;\n",
       "    }\n",
       "\n",
       "    .dataframe thead th {\n",
       "        text-align: right;\n",
       "    }\n",
       "</style>\n",
       "<table border=\"1\" class=\"dataframe\">\n",
       "  <thead>\n",
       "    <tr style=\"text-align: right;\">\n",
       "      <th></th>\n",
       "      <th>pca1</th>\n",
       "      <th>pca2</th>\n",
       "      <th>pca3</th>\n",
       "      <th>pca4</th>\n",
       "      <th>pca5</th>\n",
       "      <th>pca6</th>\n",
       "      <th>pca7</th>\n",
       "      <th>pca8</th>\n",
       "      <th>pca9</th>\n",
       "      <th>pca10</th>\n",
       "      <th>...</th>\n",
       "      <th>pca90</th>\n",
       "      <th>pca91</th>\n",
       "      <th>pca92</th>\n",
       "      <th>pca93</th>\n",
       "      <th>pca94</th>\n",
       "      <th>pca95</th>\n",
       "      <th>pca96</th>\n",
       "      <th>pca97</th>\n",
       "      <th>pca98</th>\n",
       "      <th>pca99</th>\n",
       "    </tr>\n",
       "  </thead>\n",
       "  <tbody>\n",
       "    <tr>\n",
       "      <th>0</th>\n",
       "      <td>49321.282867</td>\n",
       "      <td>8798.088240</td>\n",
       "      <td>-4830.268167</td>\n",
       "      <td>8469.249994</td>\n",
       "      <td>1556.172377</td>\n",
       "      <td>-1943.408519</td>\n",
       "      <td>-802.614651</td>\n",
       "      <td>-19894.386822</td>\n",
       "      <td>-14224.062514</td>\n",
       "      <td>-8417.485573</td>\n",
       "      <td>...</td>\n",
       "      <td>-200.829316</td>\n",
       "      <td>18248.737579</td>\n",
       "      <td>2057.669206</td>\n",
       "      <td>-13115.077622</td>\n",
       "      <td>807.014997</td>\n",
       "      <td>2198.397909</td>\n",
       "      <td>11784.929119</td>\n",
       "      <td>-10576.576699</td>\n",
       "      <td>6467.874498</td>\n",
       "      <td>13357.096531</td>\n",
       "    </tr>\n",
       "    <tr>\n",
       "      <th>1</th>\n",
       "      <td>48730.331693</td>\n",
       "      <td>4592.487978</td>\n",
       "      <td>-10885.654708</td>\n",
       "      <td>18052.337288</td>\n",
       "      <td>2909.429086</td>\n",
       "      <td>-8375.370353</td>\n",
       "      <td>2921.745352</td>\n",
       "      <td>3800.713842</td>\n",
       "      <td>12396.886790</td>\n",
       "      <td>-5210.860080</td>\n",
       "      <td>...</td>\n",
       "      <td>-5990.309336</td>\n",
       "      <td>-13750.243464</td>\n",
       "      <td>15039.648215</td>\n",
       "      <td>11676.471273</td>\n",
       "      <td>-1324.455188</td>\n",
       "      <td>5991.536437</td>\n",
       "      <td>-17511.031835</td>\n",
       "      <td>5215.465056</td>\n",
       "      <td>4273.726710</td>\n",
       "      <td>1986.939582</td>\n",
       "    </tr>\n",
       "    <tr>\n",
       "      <th>2</th>\n",
       "      <td>49093.455329</td>\n",
       "      <td>-5202.755695</td>\n",
       "      <td>-21856.806782</td>\n",
       "      <td>-7377.903381</td>\n",
       "      <td>-9611.502656</td>\n",
       "      <td>-10347.669582</td>\n",
       "      <td>13831.175279</td>\n",
       "      <td>-5189.998839</td>\n",
       "      <td>44.487259</td>\n",
       "      <td>3674.550494</td>\n",
       "      <td>...</td>\n",
       "      <td>9272.469593</td>\n",
       "      <td>-35.145491</td>\n",
       "      <td>10927.998257</td>\n",
       "      <td>-18930.742481</td>\n",
       "      <td>6829.534796</td>\n",
       "      <td>442.049953</td>\n",
       "      <td>-5604.507763</td>\n",
       "      <td>4658.411522</td>\n",
       "      <td>-10099.933991</td>\n",
       "      <td>10750.596267</td>\n",
       "    </tr>\n",
       "    <tr>\n",
       "      <th>3</th>\n",
       "      <td>49591.540244</td>\n",
       "      <td>-1938.368477</td>\n",
       "      <td>-839.723635</td>\n",
       "      <td>-7004.826308</td>\n",
       "      <td>13785.618899</td>\n",
       "      <td>-7176.079569</td>\n",
       "      <td>-9567.884844</td>\n",
       "      <td>12781.510173</td>\n",
       "      <td>10010.835967</td>\n",
       "      <td>8703.921508</td>\n",
       "      <td>...</td>\n",
       "      <td>4425.587850</td>\n",
       "      <td>13099.646930</td>\n",
       "      <td>-15738.176352</td>\n",
       "      <td>-3665.649034</td>\n",
       "      <td>2532.763004</td>\n",
       "      <td>6990.405956</td>\n",
       "      <td>-1819.189935</td>\n",
       "      <td>-4782.504285</td>\n",
       "      <td>10147.533865</td>\n",
       "      <td>-2987.717953</td>\n",
       "    </tr>\n",
       "    <tr>\n",
       "      <th>4</th>\n",
       "      <td>47143.161883</td>\n",
       "      <td>3135.358459</td>\n",
       "      <td>-24926.651225</td>\n",
       "      <td>8139.092037</td>\n",
       "      <td>-9309.444301</td>\n",
       "      <td>9090.632846</td>\n",
       "      <td>19023.083124</td>\n",
       "      <td>5567.639312</td>\n",
       "      <td>13814.732265</td>\n",
       "      <td>-28844.997818</td>\n",
       "      <td>...</td>\n",
       "      <td>14023.513016</td>\n",
       "      <td>-9261.886292</td>\n",
       "      <td>-9052.574619</td>\n",
       "      <td>7769.892144</td>\n",
       "      <td>9715.972008</td>\n",
       "      <td>12997.895835</td>\n",
       "      <td>6634.934588</td>\n",
       "      <td>-418.102710</td>\n",
       "      <td>7400.144508</td>\n",
       "      <td>2994.062915</td>\n",
       "    </tr>\n",
       "  </tbody>\n",
       "</table>\n",
       "<p>5 rows × 99 columns</p>\n",
       "</div>"
      ],
      "text/plain": [
       "           pca1         pca2          pca3          pca4          pca5  \\\n",
       "0  49321.282867  8798.088240  -4830.268167   8469.249994   1556.172377   \n",
       "1  48730.331693  4592.487978 -10885.654708  18052.337288   2909.429086   \n",
       "2  49093.455329 -5202.755695 -21856.806782  -7377.903381  -9611.502656   \n",
       "3  49591.540244 -1938.368477   -839.723635  -7004.826308  13785.618899   \n",
       "4  47143.161883  3135.358459 -24926.651225   8139.092037  -9309.444301   \n",
       "\n",
       "           pca6          pca7          pca8          pca9         pca10  \\\n",
       "0  -1943.408519   -802.614651 -19894.386822 -14224.062514  -8417.485573   \n",
       "1  -8375.370353   2921.745352   3800.713842  12396.886790  -5210.860080   \n",
       "2 -10347.669582  13831.175279  -5189.998839     44.487259   3674.550494   \n",
       "3  -7176.079569  -9567.884844  12781.510173  10010.835967   8703.921508   \n",
       "4   9090.632846  19023.083124   5567.639312  13814.732265 -28844.997818   \n",
       "\n",
       "       ...              pca90         pca91         pca92         pca93  \\\n",
       "0      ...        -200.829316  18248.737579   2057.669206 -13115.077622   \n",
       "1      ...       -5990.309336 -13750.243464  15039.648215  11676.471273   \n",
       "2      ...        9272.469593    -35.145491  10927.998257 -18930.742481   \n",
       "3      ...        4425.587850  13099.646930 -15738.176352  -3665.649034   \n",
       "4      ...       14023.513016  -9261.886292  -9052.574619   7769.892144   \n",
       "\n",
       "         pca94         pca95         pca96         pca97         pca98  \\\n",
       "0   807.014997   2198.397909  11784.929119 -10576.576699   6467.874498   \n",
       "1 -1324.455188   5991.536437 -17511.031835   5215.465056   4273.726710   \n",
       "2  6829.534796    442.049953  -5604.507763   4658.411522 -10099.933991   \n",
       "3  2532.763004   6990.405956  -1819.189935  -4782.504285  10147.533865   \n",
       "4  9715.972008  12997.895835   6634.934588   -418.102710   7400.144508   \n",
       "\n",
       "          pca99  \n",
       "0  13357.096531  \n",
       "1   1986.939582  \n",
       "2  10750.596267  \n",
       "3  -2987.717953  \n",
       "4   2994.062915  \n",
       "\n",
       "[5 rows x 99 columns]"
      ]
     },
     "execution_count": 72,
     "metadata": {},
     "output_type": "execute_result"
    }
   ],
   "source": [
    "components = pd.DataFrame(components, columns = columns)\n",
    "components.head()"
   ]
  },
  {
   "cell_type": "markdown",
   "metadata": {},
   "source": [
    "### componet1 - component2 projection"
   ]
  },
  {
   "cell_type": "code",
   "execution_count": 77,
   "metadata": {
    "ExecuteTime": {
     "end_time": "2018-05-07T11:11:50.879309Z",
     "start_time": "2018-05-07T11:11:50.761079Z"
    }
   },
   "outputs": [
    {
     "data": {
      "text/plain": [
       "<matplotlib.axes._subplots.AxesSubplot at 0x7f290395dc50>"
      ]
     },
     "execution_count": 77,
     "metadata": {},
     "output_type": "execute_result"
    },
    {
     "data": {
      "image/png": "[encoded data removed]",
      "text/plain": [
       "<Figure size 864x720 with 1 Axes>"
      ]
     },
     "metadata": {},
     "output_type": "display_data"
    }
   ],
   "source": [
    "f, ax = plt.subplots(figsize=(12, 10))\n",
    "components.plot.scatter(x = 'pca1', y = 'pca2', ax = ax) #, palette = sns.color_palette(\"YlGnBu\", n_colors=2)"
   ]
  },
  {
   "cell_type": "markdown",
   "metadata": {},
   "source": [
    "### component2 - component3 projection"
   ]
  },
  {
   "cell_type": "code",
   "execution_count": 78,
   "metadata": {
    "ExecuteTime": {
     "end_time": "2018-05-07T11:12:31.780218Z",
     "start_time": "2018-05-07T11:12:31.655504Z"
    }
   },
   "outputs": [
    {
     "data": {
      "text/plain": [
       "<matplotlib.axes._subplots.AxesSubplot at 0x7f29038c6470>"
      ]
     },
     "execution_count": 78,
     "metadata": {},
     "output_type": "execute_result"
    },
    {
     "data": {
      "image/png": "[encoded data removed]",
      "text/plain": [
       "<Figure size 864x720 with 1 Axes>"
      ]
     },
     "metadata": {},
     "output_type": "display_data"
    }
   ],
   "source": [
    "f, ax = plt.subplots(figsize=(12, 10))\n",
    "components.plot.scatter(x = 'pca2', y = 'pca3', ax = ax)"
   ]
  },
  {
   "cell_type": "markdown",
   "metadata": {},
   "source": [
    "### component3 - component4 projection"
   ]
  },
  {
   "cell_type": "code",
   "execution_count": 79,
   "metadata": {
    "ExecuteTime": {
     "end_time": "2018-05-07T11:12:50.776075Z",
     "start_time": "2018-05-07T11:12:50.655061Z"
    }
   },
   "outputs": [
    {
     "data": {
      "text/plain": [
       "<matplotlib.axes._subplots.AxesSubplot at 0x7f29038a6e80>"
      ]
     },
     "execution_count": 79,
     "metadata": {},
     "output_type": "execute_result"
    },
    {
     "data": {
      "image/png": "[encoded data removed]",
      "text/plain": [
       "<Figure size 864x720 with 1 Axes>"
      ]
     },
     "metadata": {},
     "output_type": "display_data"
    }
   ],
   "source": [
    "f, ax = plt.subplots(figsize=(12, 10))\n",
    "components.plot.scatter(x = 'pca3', y = 'pca4', ax = ax)"
   ]
  },
  {
   "cell_type": "markdown",
   "metadata": {},
   "source": [
    "## Visualize test"
   ]
  },
  {
   "cell_type": "markdown",
   "metadata": {},
   "source": [
    "To be sure that test data distribution is similar to the one of the train dataset"
   ]
  },
  {
   "cell_type": "code",
   "execution_count": 80,
   "metadata": {
    "ExecuteTime": {
     "end_time": "2018-05-07T11:14:05.258844Z",
     "start_time": "2018-05-07T11:14:04.124776Z"
    }
   },
   "outputs": [
    {
     "data": {
      "text/html": [
       "<div>\n",
       "<style scoped>\n",
       "    .dataframe tbody tr th:only-of-type {\n",
       "        vertical-align: middle;\n",
       "    }\n",
       "\n",
       "    .dataframe tbody tr th {\n",
       "        vertical-align: top;\n",
       "    }\n",
       "\n",
       "    .dataframe thead th {\n",
       "        text-align: right;\n",
       "    }\n",
       "</style>\n",
       "<table border=\"1\" class=\"dataframe\">\n",
       "  <thead>\n",
       "    <tr style=\"text-align: right;\">\n",
       "      <th></th>\n",
       "      <th>pca1</th>\n",
       "      <th>pca2</th>\n",
       "      <th>pca3</th>\n",
       "      <th>pca4</th>\n",
       "      <th>pca5</th>\n",
       "      <th>pca6</th>\n",
       "      <th>pca7</th>\n",
       "      <th>pca8</th>\n",
       "      <th>pca9</th>\n",
       "      <th>pca10</th>\n",
       "      <th>...</th>\n",
       "      <th>pca90</th>\n",
       "      <th>pca91</th>\n",
       "      <th>pca92</th>\n",
       "      <th>pca93</th>\n",
       "      <th>pca94</th>\n",
       "      <th>pca95</th>\n",
       "      <th>pca96</th>\n",
       "      <th>pca97</th>\n",
       "      <th>pca98</th>\n",
       "      <th>pca99</th>\n",
       "    </tr>\n",
       "  </thead>\n",
       "  <tbody>\n",
       "    <tr>\n",
       "      <th>0</th>\n",
       "      <td>45761.229403</td>\n",
       "      <td>-529.115877</td>\n",
       "      <td>-497.471158</td>\n",
       "      <td>1014.734928</td>\n",
       "      <td>959.655137</td>\n",
       "      <td>-140.485077</td>\n",
       "      <td>-442.265481</td>\n",
       "      <td>-502.729468</td>\n",
       "      <td>431.224734</td>\n",
       "      <td>109.950812</td>\n",
       "      <td>...</td>\n",
       "      <td>-19.426020</td>\n",
       "      <td>-468.003159</td>\n",
       "      <td>-51.148715</td>\n",
       "      <td>-569.101076</td>\n",
       "      <td>-90.113639</td>\n",
       "      <td>981.179803</td>\n",
       "      <td>-472.679806</td>\n",
       "      <td>-411.020436</td>\n",
       "      <td>-622.332154</td>\n",
       "      <td>325.501874</td>\n",
       "    </tr>\n",
       "    <tr>\n",
       "      <th>1</th>\n",
       "      <td>32489.058713</td>\n",
       "      <td>1286.830388</td>\n",
       "      <td>-99.171877</td>\n",
       "      <td>2999.108846</td>\n",
       "      <td>758.652334</td>\n",
       "      <td>427.511050</td>\n",
       "      <td>193.266274</td>\n",
       "      <td>493.418627</td>\n",
       "      <td>-1198.797139</td>\n",
       "      <td>-398.690281</td>\n",
       "      <td>...</td>\n",
       "      <td>-356.041064</td>\n",
       "      <td>-892.009871</td>\n",
       "      <td>1191.056554</td>\n",
       "      <td>299.474111</td>\n",
       "      <td>949.710787</td>\n",
       "      <td>690.892540</td>\n",
       "      <td>130.929819</td>\n",
       "      <td>-80.614291</td>\n",
       "      <td>638.546223</td>\n",
       "      <td>-678.305635</td>\n",
       "    </tr>\n",
       "    <tr>\n",
       "      <th>2</th>\n",
       "      <td>41332.779526</td>\n",
       "      <td>-846.517392</td>\n",
       "      <td>5492.296447</td>\n",
       "      <td>1591.015703</td>\n",
       "      <td>394.859026</td>\n",
       "      <td>-1274.493515</td>\n",
       "      <td>-521.759969</td>\n",
       "      <td>-167.271760</td>\n",
       "      <td>532.209407</td>\n",
       "      <td>507.740786</td>\n",
       "      <td>...</td>\n",
       "      <td>877.593632</td>\n",
       "      <td>1087.523394</td>\n",
       "      <td>-682.585059</td>\n",
       "      <td>-372.720427</td>\n",
       "      <td>760.389553</td>\n",
       "      <td>742.511630</td>\n",
       "      <td>-1076.739619</td>\n",
       "      <td>523.306734</td>\n",
       "      <td>119.968743</td>\n",
       "      <td>-1181.539882</td>\n",
       "    </tr>\n",
       "    <tr>\n",
       "      <th>3</th>\n",
       "      <td>25022.570990</td>\n",
       "      <td>-1554.415176</td>\n",
       "      <td>-1214.680965</td>\n",
       "      <td>-781.343734</td>\n",
       "      <td>468.552306</td>\n",
       "      <td>-2386.726883</td>\n",
       "      <td>588.974399</td>\n",
       "      <td>565.299723</td>\n",
       "      <td>51.790538</td>\n",
       "      <td>395.409390</td>\n",
       "      <td>...</td>\n",
       "      <td>334.576855</td>\n",
       "      <td>1040.262115</td>\n",
       "      <td>-888.462910</td>\n",
       "      <td>54.616022</td>\n",
       "      <td>253.389759</td>\n",
       "      <td>-821.280389</td>\n",
       "      <td>-471.904930</td>\n",
       "      <td>-110.410660</td>\n",
       "      <td>-185.113172</td>\n",
       "      <td>-610.826731</td>\n",
       "    </tr>\n",
       "    <tr>\n",
       "      <th>4</th>\n",
       "      <td>44613.111108</td>\n",
       "      <td>-620.507732</td>\n",
       "      <td>-2428.757240</td>\n",
       "      <td>876.800094</td>\n",
       "      <td>55.545563</td>\n",
       "      <td>-676.996511</td>\n",
       "      <td>-64.080428</td>\n",
       "      <td>-414.716662</td>\n",
       "      <td>-338.942103</td>\n",
       "      <td>-2152.857936</td>\n",
       "      <td>...</td>\n",
       "      <td>437.623832</td>\n",
       "      <td>286.613184</td>\n",
       "      <td>1164.452590</td>\n",
       "      <td>717.913843</td>\n",
       "      <td>36.866229</td>\n",
       "      <td>518.776784</td>\n",
       "      <td>337.028974</td>\n",
       "      <td>-535.521618</td>\n",
       "      <td>-333.701557</td>\n",
       "      <td>128.508673</td>\n",
       "    </tr>\n",
       "  </tbody>\n",
       "</table>\n",
       "<p>5 rows × 99 columns</p>\n",
       "</div>"
      ],
      "text/plain": [
       "           pca1         pca2         pca3         pca4        pca5  \\\n",
       "0  45761.229403  -529.115877  -497.471158  1014.734928  959.655137   \n",
       "1  32489.058713  1286.830388   -99.171877  2999.108846  758.652334   \n",
       "2  41332.779526  -846.517392  5492.296447  1591.015703  394.859026   \n",
       "3  25022.570990 -1554.415176 -1214.680965  -781.343734  468.552306   \n",
       "4  44613.111108  -620.507732 -2428.757240   876.800094   55.545563   \n",
       "\n",
       "          pca6        pca7        pca8         pca9        pca10     ...       \\\n",
       "0  -140.485077 -442.265481 -502.729468   431.224734   109.950812     ...        \n",
       "1   427.511050  193.266274  493.418627 -1198.797139  -398.690281     ...        \n",
       "2 -1274.493515 -521.759969 -167.271760   532.209407   507.740786     ...        \n",
       "3 -2386.726883  588.974399  565.299723    51.790538   395.409390     ...        \n",
       "4  -676.996511  -64.080428 -414.716662  -338.942103 -2152.857936     ...        \n",
       "\n",
       "        pca90        pca91        pca92       pca93       pca94       pca95  \\\n",
       "0  -19.426020  -468.003159   -51.148715 -569.101076  -90.113639  981.179803   \n",
       "1 -356.041064  -892.009871  1191.056554  299.474111  949.710787  690.892540   \n",
       "2  877.593632  1087.523394  -682.585059 -372.720427  760.389553  742.511630   \n",
       "3  334.576855  1040.262115  -888.462910   54.616022  253.389759 -821.280389   \n",
       "4  437.623832   286.613184  1164.452590  717.913843   36.866229  518.776784   \n",
       "\n",
       "         pca96       pca97       pca98        pca99  \n",
       "0  -472.679806 -411.020436 -622.332154   325.501874  \n",
       "1   130.929819  -80.614291  638.546223  -678.305635  \n",
       "2 -1076.739619  523.306734  119.968743 -1181.539882  \n",
       "3  -471.904930 -110.410660 -185.113172  -610.826731  \n",
       "4   337.028974 -535.521618 -333.701557   128.508673  \n",
       "\n",
       "[5 rows x 99 columns]"
      ]
     },
     "execution_count": 80,
     "metadata": {},
     "output_type": "execute_result"
    }
   ],
   "source": [
    "components_test = pca.transform(tdf_cats.iloc[3:, :].values)\n",
    "components_test = pd.DataFrame(components_test, columns = columns)\n",
    "components_test.head()"
   ]
  },
  {
   "cell_type": "markdown",
   "metadata": {},
   "source": [
    "### component1 - component2 projection"
   ]
  },
  {
   "cell_type": "code",
   "execution_count": 81,
   "metadata": {
    "ExecuteTime": {
     "end_time": "2018-05-07T11:14:15.855086Z",
     "start_time": "2018-05-07T11:14:15.737157Z"
    }
   },
   "outputs": [
    {
     "data": {
      "text/plain": [
       "<matplotlib.axes._subplots.AxesSubplot at 0x7f2903879c50>"
      ]
     },
     "execution_count": 81,
     "metadata": {},
     "output_type": "execute_result"
    },
    {
     "data": {
      "image/png": "[encoded data removed]",
      "text/plain": [
       "<Figure size 864x720 with 1 Axes>"
      ]
     },
     "metadata": {},
     "output_type": "display_data"
    }
   ],
   "source": [
    "f, ax = plt.subplots(figsize=(12, 10))\n",
    "components.plot.scatter(x = 'pca1', y = 'pca2', ax = ax)"
   ]
  },
  {
   "cell_type": "markdown",
   "metadata": {},
   "source": [
    "### component2 - component3 projection"
   ]
  },
  {
   "cell_type": "code",
   "execution_count": 82,
   "metadata": {
    "ExecuteTime": {
     "end_time": "2018-05-07T11:14:26.341902Z",
     "start_time": "2018-05-07T11:14:26.214224Z"
    }
   },
   "outputs": [
    {
     "data": {
      "text/plain": [
       "<matplotlib.axes._subplots.AxesSubplot at 0x7f2903838748>"
      ]
     },
     "execution_count": 82,
     "metadata": {},
     "output_type": "execute_result"
    },
    {
     "data": {
      "image/png": "[encoded data removed]",
      "text/plain": [
       "<Figure size 864x720 with 1 Axes>"
      ]
     },
     "metadata": {},
     "output_type": "display_data"
    }
   ],
   "source": [
    "f, ax = plt.subplots(figsize=(12, 10))\n",
    "components.plot.scatter(x = 'pca2', y = 'pca3', ax = ax)"
   ]
  },
  {
   "cell_type": "markdown",
   "metadata": {},
   "source": [
    "### component3 - component4 projection"
   ]
  },
  {
   "cell_type": "code",
   "execution_count": 83,
   "metadata": {
    "ExecuteTime": {
     "end_time": "2018-05-07T11:14:45.148173Z",
     "start_time": "2018-05-07T11:14:45.025756Z"
    }
   },
   "outputs": [
    {
     "data": {
      "text/plain": [
       "<matplotlib.axes._subplots.AxesSubplot at 0x7f29037987b8>"
      ]
     },
     "execution_count": 83,
     "metadata": {},
     "output_type": "execute_result"
    },
    {
     "data": {
      "image/png": "[encoded data removed]",
      "text/plain": [
       "<Figure size 864x720 with 1 Axes>"
      ]
     },
     "metadata": {},
     "output_type": "display_data"
    }
   ],
   "source": [
    "f, ax = plt.subplots(figsize=(12, 10))\n",
    "components.plot.scatter(x = 'pca3', y = 'pca4', ax = ax)"
   ]
  },
  {
   "cell_type": "markdown",
   "metadata": {},
   "source": [
    "## 3D vis"
   ]
  },
  {
   "cell_type": "code",
   "execution_count": 84,
   "metadata": {
    "ExecuteTime": {
     "end_time": "2018-05-07T11:15:05.879193Z",
     "start_time": "2018-05-07T11:15:05.770178Z"
    }
   },
   "outputs": [
    {
     "name": "stderr",
     "output_type": "stream",
     "text": [
      "/opt/conda/lib/python3.6/site-packages/ipykernel_launcher.py:3: UserWarning: Requested projection is different from current axis projection, creating new axis with requested projection.\n",
      "  This is separate from the ipykernel package so we can avoid doing imports until\n",
      "/opt/conda/lib/python3.6/site-packages/matplotlib/cbook/deprecation.py:107: MatplotlibDeprecationWarning: Adding an axes using the same arguments as a previous axes currently reuses the earlier instance.  In a future version, a new instance will always be created and returned.  Meanwhile, this warning can be suppressed, and the future behavior ensured, by passing a unique label to each axes instance.\n",
      "  warnings.warn(message, mplDeprecation, stacklevel=1)\n"
     ]
    },
    {
     "data": {
      "image/png": "[encoded data removed]",
      "text/plain": [
       "<Figure size 432x288 with 1 Axes>"
      ]
     },
     "metadata": {},
     "output_type": "display_data"
    }
   ],
   "source": [
    "fig = plt.figure()\n",
    "ax = fig.add_subplot(111)\n",
    "ax = fig.gca(projection='3d')\n",
    "ax.scatter(components['pca1'].values, components['pca2'].values, components['pca3'].values)\n",
    "ax.azim = 100\n",
    "ax.elev = -135\n",
    "plt.show()"
   ]
  },
  {
   "cell_type": "markdown",
   "metadata": {},
   "source": [
    "# Clustering"
   ]
  },
  {
   "cell_type": "markdown",
   "metadata": {},
   "source": [
    "We could use just 3 first components, since 3d projection shows two clusters, but using a hundred is possible on my machine too."
   ]
  },
  {
   "cell_type": "code",
   "execution_count": 85,
   "metadata": {
    "ExecuteTime": {
     "end_time": "2018-05-07T11:18:07.227257Z",
     "start_time": "2018-05-07T11:18:06.809459Z"
    }
   },
   "outputs": [],
   "source": [
    "cl = KMeans(n_clusters=2, init='random', n_init=10, max_iter=300, random_state=0, n_jobs=8).fit(components)"
   ]
  },
  {
   "cell_type": "code",
   "execution_count": 86,
   "metadata": {
    "ExecuteTime": {
     "end_time": "2018-05-07T11:18:08.465050Z",
     "start_time": "2018-05-07T11:18:08.457390Z"
    }
   },
   "outputs": [
    {
     "data": {
      "text/plain": [
       "array([1, 1, 1, 1, 1, 1, 1, 1, 1, 1, 1, 1, 1, 1, 1, 1, 1, 1, 1, 1, 1, 1,\n",
       "       1, 1, 1, 1, 1, 1, 1, 1, 1, 1, 1, 1, 1, 1, 1, 1, 1, 1, 1, 1, 1, 1,\n",
       "       1, 1, 1, 1, 1, 1, 0, 0, 0, 0, 0, 0, 0, 0, 0, 0, 0, 0, 0, 0, 0, 0,\n",
       "       0, 0, 0, 0, 0, 0, 0, 0, 0, 0, 0, 0, 0, 0, 0, 0, 0, 0, 0, 0, 0, 0,\n",
       "       0, 0, 0, 0, 0, 0, 0, 0, 0, 0, 0, 0], dtype=int32)"
      ]
     },
     "execution_count": 86,
     "metadata": {},
     "output_type": "execute_result"
    }
   ],
   "source": [
    "labels = cl.labels_\n",
    "labels"
   ]
  },
  {
   "cell_type": "code",
   "execution_count": 87,
   "metadata": {
    "ExecuteTime": {
     "end_time": "2018-05-07T11:18:31.046104Z",
     "start_time": "2018-05-07T11:18:31.040721Z"
    }
   },
   "outputs": [
    {
     "data": {
      "text/plain": [
       "50"
      ]
     },
     "execution_count": 87,
     "metadata": {},
     "output_type": "execute_result"
    }
   ],
   "source": [
    "sum(labels)"
   ]
  },
  {
   "cell_type": "code",
   "execution_count": 88,
   "metadata": {
    "ExecuteTime": {
     "end_time": "2018-05-07T11:19:52.465331Z",
     "start_time": "2018-05-07T11:19:52.461681Z"
    }
   },
   "outputs": [],
   "source": [
    "components['label'] = labels"
   ]
  },
  {
   "cell_type": "markdown",
   "metadata": {},
   "source": [
    "# Clusters visualization"
   ]
  },
  {
   "cell_type": "markdown",
   "metadata": {},
   "source": [
    "### componet1 - component2 projection"
   ]
  },
  {
   "cell_type": "code",
   "execution_count": 90,
   "metadata": {
    "ExecuteTime": {
     "end_time": "2018-05-07T11:22:15.654265Z",
     "start_time": "2018-05-07T11:22:15.530211Z"
    }
   },
   "outputs": [
    {
     "data": {
      "text/plain": [
       "<matplotlib.axes._subplots.AxesSubplot at 0x7f2903bbd978>"
      ]
     },
     "execution_count": 90,
     "metadata": {},
     "output_type": "execute_result"
    },
    {
     "data": {
      "image/png": "[encoded data removed]",
      "text/plain": [
       "<Figure size 864x720 with 1 Axes>"
      ]
     },
     "metadata": {},
     "output_type": "display_data"
    }
   ],
   "source": [
    "f, ax = plt.subplots(figsize=(12, 10))\n",
    "components[components['label'] == 1].plot.scatter(x = 'pca1', y = 'pca2', ax = ax)\n",
    "components[components['label'] == 0].plot.scatter(x = 'pca1', y = 'pca2', ax = ax, c = 'r')"
   ]
  },
  {
   "cell_type": "markdown",
   "metadata": {},
   "source": [
    "### componet2 - component3 projection"
   ]
  },
  {
   "cell_type": "code",
   "execution_count": 91,
   "metadata": {
    "ExecuteTime": {
     "end_time": "2018-05-07T11:22:41.235972Z",
     "start_time": "2018-05-07T11:22:41.106065Z"
    }
   },
   "outputs": [
    {
     "data": {
      "text/plain": [
       "<matplotlib.axes._subplots.AxesSubplot at 0x7f2903bd4438>"
      ]
     },
     "execution_count": 91,
     "metadata": {},
     "output_type": "execute_result"
    },
    {
     "data": {
      "image/png": "[encoded data removed]",
      "text/plain": [
       "<Figure size 864x720 with 1 Axes>"
      ]
     },
     "metadata": {},
     "output_type": "display_data"
    }
   ],
   "source": [
    "f, ax = plt.subplots(figsize=(12, 10))\n",
    "components[components['label'] == 1].plot.scatter(x = 'pca2', y = 'pca3', ax = ax)\n",
    "components[components['label'] == 0].plot.scatter(x = 'pca2', y = 'pca3', ax = ax, c = 'r')"
   ]
  },
  {
   "cell_type": "markdown",
   "metadata": {},
   "source": [
    "### componet3 - component4 projection"
   ]
  },
  {
   "cell_type": "code",
   "execution_count": 92,
   "metadata": {
    "ExecuteTime": {
     "end_time": "2018-05-07T11:23:01.445790Z",
     "start_time": "2018-05-07T11:23:01.319301Z"
    }
   },
   "outputs": [
    {
     "data": {
      "text/plain": [
       "<matplotlib.axes._subplots.AxesSubplot at 0x7f2903cfadd8>"
      ]
     },
     "execution_count": 92,
     "metadata": {},
     "output_type": "execute_result"
    },
    {
     "data": {
      "image/png": "[encoded data removed]",
      "text/plain": [
       "<Figure size 864x720 with 1 Axes>"
      ]
     },
     "metadata": {},
     "output_type": "display_data"
    }
   ],
   "source": [
    "f, ax = plt.subplots(figsize=(12, 10))\n",
    "components[components['label'] == 1].plot.scatter(x = 'pca3', y = 'pca4', ax = ax)\n",
    "components[components['label'] == 0].plot.scatter(x = 'pca3', y = 'pca4', ax = ax, c = 'r')"
   ]
  },
  {
   "cell_type": "markdown",
   "metadata": {},
   "source": [
    "# Save preprocessed and labelled data for further use"
   ]
  },
  {
   "cell_type": "code",
   "execution_count": 94,
   "metadata": {
    "ExecuteTime": {
     "end_time": "2018-05-07T11:24:33.496892Z",
     "start_time": "2018-05-07T11:24:32.634620Z"
    }
   },
   "outputs": [],
   "source": [
    "df_cats = df_cats.iloc[3:, :].copy()"
   ]
  },
  {
   "cell_type": "code",
   "execution_count": 95,
   "metadata": {
    "ExecuteTime": {
     "end_time": "2018-05-07T11:24:34.327244Z",
     "start_time": "2018-05-07T11:24:34.284905Z"
    }
   },
   "outputs": [
    {
     "data": {
      "text/html": [
       "<div>\n",
       "<style scoped>\n",
       "    .dataframe tbody tr th:only-of-type {\n",
       "        vertical-align: middle;\n",
       "    }\n",
       "\n",
       "    .dataframe tbody tr th {\n",
       "        vertical-align: top;\n",
       "    }\n",
       "\n",
       "    .dataframe thead th {\n",
       "        text-align: right;\n",
       "    }\n",
       "</style>\n",
       "<table border=\"1\" class=\"dataframe\">\n",
       "  <thead>\n",
       "    <tr style=\"text-align: right;\">\n",
       "      <th></th>\n",
       "      <th>0</th>\n",
       "      <th>1</th>\n",
       "      <th>2</th>\n",
       "      <th>3</th>\n",
       "      <th>4</th>\n",
       "      <th>5</th>\n",
       "      <th>6</th>\n",
       "      <th>7</th>\n",
       "      <th>8</th>\n",
       "      <th>9</th>\n",
       "      <th>...</th>\n",
       "      <th>249991</th>\n",
       "      <th>249992</th>\n",
       "      <th>249993</th>\n",
       "      <th>249994</th>\n",
       "      <th>249995</th>\n",
       "      <th>249996</th>\n",
       "      <th>249997</th>\n",
       "      <th>249998</th>\n",
       "      <th>249999</th>\n",
       "      <th>label</th>\n",
       "    </tr>\n",
       "  </thead>\n",
       "  <tbody>\n",
       "    <tr>\n",
       "      <th>3</th>\n",
       "      <td>0</td>\n",
       "      <td>975</td>\n",
       "      <td>569</td>\n",
       "      <td>569</td>\n",
       "      <td>726</td>\n",
       "      <td>658</td>\n",
       "      <td>899</td>\n",
       "      <td>658</td>\n",
       "      <td>0</td>\n",
       "      <td>145</td>\n",
       "      <td>...</td>\n",
       "      <td>899</td>\n",
       "      <td>569</td>\n",
       "      <td>1089</td>\n",
       "      <td>1089</td>\n",
       "      <td>0</td>\n",
       "      <td>427</td>\n",
       "      <td>759</td>\n",
       "      <td>759</td>\n",
       "      <td>975</td>\n",
       "      <td>1</td>\n",
       "    </tr>\n",
       "    <tr>\n",
       "      <th>4</th>\n",
       "      <td>658</td>\n",
       "      <td>975</td>\n",
       "      <td>569</td>\n",
       "      <td>427</td>\n",
       "      <td>759</td>\n",
       "      <td>759</td>\n",
       "      <td>1089</td>\n",
       "      <td>759</td>\n",
       "      <td>0</td>\n",
       "      <td>0</td>\n",
       "      <td>...</td>\n",
       "      <td>1089</td>\n",
       "      <td>427</td>\n",
       "      <td>209</td>\n",
       "      <td>569</td>\n",
       "      <td>0</td>\n",
       "      <td>975</td>\n",
       "      <td>759</td>\n",
       "      <td>759</td>\n",
       "      <td>427</td>\n",
       "      <td>1</td>\n",
       "    </tr>\n",
       "    <tr>\n",
       "      <th>5</th>\n",
       "      <td>0</td>\n",
       "      <td>975</td>\n",
       "      <td>569</td>\n",
       "      <td>569</td>\n",
       "      <td>726</td>\n",
       "      <td>658</td>\n",
       "      <td>899</td>\n",
       "      <td>658</td>\n",
       "      <td>317</td>\n",
       "      <td>0</td>\n",
       "      <td>...</td>\n",
       "      <td>0</td>\n",
       "      <td>975</td>\n",
       "      <td>899</td>\n",
       "      <td>975</td>\n",
       "      <td>0</td>\n",
       "      <td>427</td>\n",
       "      <td>759</td>\n",
       "      <td>759</td>\n",
       "      <td>427</td>\n",
       "      <td>1</td>\n",
       "    </tr>\n",
       "    <tr>\n",
       "      <th>6</th>\n",
       "      <td>0</td>\n",
       "      <td>975</td>\n",
       "      <td>569</td>\n",
       "      <td>569</td>\n",
       "      <td>726</td>\n",
       "      <td>658</td>\n",
       "      <td>899</td>\n",
       "      <td>658</td>\n",
       "      <td>0</td>\n",
       "      <td>145</td>\n",
       "      <td>...</td>\n",
       "      <td>1089</td>\n",
       "      <td>427</td>\n",
       "      <td>209</td>\n",
       "      <td>427</td>\n",
       "      <td>899</td>\n",
       "      <td>427</td>\n",
       "      <td>759</td>\n",
       "      <td>658</td>\n",
       "      <td>569</td>\n",
       "      <td>1</td>\n",
       "    </tr>\n",
       "    <tr>\n",
       "      <th>7</th>\n",
       "      <td>0</td>\n",
       "      <td>1089</td>\n",
       "      <td>427</td>\n",
       "      <td>427</td>\n",
       "      <td>759</td>\n",
       "      <td>759</td>\n",
       "      <td>1089</td>\n",
       "      <td>759</td>\n",
       "      <td>0</td>\n",
       "      <td>145</td>\n",
       "      <td>...</td>\n",
       "      <td>899</td>\n",
       "      <td>569</td>\n",
       "      <td>899</td>\n",
       "      <td>975</td>\n",
       "      <td>0</td>\n",
       "      <td>427</td>\n",
       "      <td>759</td>\n",
       "      <td>759</td>\n",
       "      <td>427</td>\n",
       "      <td>1</td>\n",
       "    </tr>\n",
       "  </tbody>\n",
       "</table>\n",
       "<p>5 rows × 250001 columns</p>\n",
       "</div>"
      ],
      "text/plain": [
       "     0     1    2    3    4    5     6    7    8    9  ...  249991 249992  \\\n",
       "3    0   975  569  569  726  658   899  658    0  145  ...     899    569   \n",
       "4  658   975  569  427  759  759  1089  759    0    0  ...    1089    427   \n",
       "5    0   975  569  569  726  658   899  658  317    0  ...       0    975   \n",
       "6    0   975  569  569  726  658   899  658    0  145  ...    1089    427   \n",
       "7    0  1089  427  427  759  759  1089  759    0  145  ...     899    569   \n",
       "\n",
       "  249993 249994 249995 249996 249997 249998 249999 label  \n",
       "3   1089   1089      0    427    759    759    975     1  \n",
       "4    209    569      0    975    759    759    427     1  \n",
       "5    899    975      0    427    759    759    427     1  \n",
       "6    209    427    899    427    759    658    569     1  \n",
       "7    899    975      0    427    759    759    427     1  \n",
       "\n",
       "[5 rows x 250001 columns]"
      ]
     },
     "execution_count": 95,
     "metadata": {},
     "output_type": "execute_result"
    }
   ],
   "source": [
    "df_cats['label'] = labels\n",
    "df_cats.head()"
   ]
  },
  {
   "cell_type": "code",
   "execution_count": 96,
   "metadata": {
    "ExecuteTime": {
     "end_time": "2018-05-07T11:24:54.874205Z",
     "start_time": "2018-05-07T11:24:53.890907Z"
    }
   },
   "outputs": [],
   "source": [
    "df_cats.rename(columns = dict(zip(list(df_cats.columns), np.array(list(df_cats.columns)).astype(str))), inplace = True)"
   ]
  },
  {
   "cell_type": "code",
   "execution_count": 98,
   "metadata": {
    "ExecuteTime": {
     "end_time": "2018-05-07T11:26:19.669195Z",
     "start_time": "2018-05-07T11:25:37.865589Z"
    }
   },
   "outputs": [],
   "source": [
    "df_cats.reset_index(inplace = True)\n",
    "del df_cats['index']\n",
    "df_cats.to_feather('labeld_train.feather')"
   ]
  },
  {
   "cell_type": "code",
   "execution_count": 99,
   "metadata": {
    "ExecuteTime": {
     "end_time": "2018-05-07T11:27:14.385188Z",
     "start_time": "2018-05-07T11:27:13.121507Z"
    }
   },
   "outputs": [],
   "source": [
    "tdf_cats.rename(columns = dict(zip(list(tdf_cats.columns), np.array(list(tdf_cats.columns)).astype(str))), inplace = True)"
   ]
  },
  {
   "cell_type": "code",
   "execution_count": 100,
   "metadata": {
    "ExecuteTime": {
     "end_time": "2018-05-07T11:27:15.484055Z",
     "start_time": "2018-05-07T11:27:15.476166Z"
    }
   },
   "outputs": [
    {
     "data": {
      "text/plain": [
       "Index(['250000', '250001', '250002', '250003', '250004', '250005', '250006',\n",
       "       '250007', '250008', '250009',\n",
       "       ...\n",
       "       '499990', '499991', '499992', '499993', '499994', '499995', '499996',\n",
       "       '499997', '499998', '499999'],\n",
       "      dtype='object', length=250000)"
      ]
     },
     "execution_count": 100,
     "metadata": {},
     "output_type": "execute_result"
    }
   ],
   "source": [
    "tdf_cats.columns"
   ]
  },
  {
   "cell_type": "code",
   "execution_count": 104,
   "metadata": {
    "ExecuteTime": {
     "end_time": "2018-05-07T11:28:16.392774Z",
     "start_time": "2018-05-07T11:28:15.613349Z"
    }
   },
   "outputs": [],
   "source": [
    "tdf_cats = tdf_cats.iloc[3:, :].copy()"
   ]
  },
  {
   "cell_type": "code",
   "execution_count": 105,
   "metadata": {
    "ExecuteTime": {
     "end_time": "2018-05-07T11:28:17.394305Z",
     "start_time": "2018-05-07T11:28:17.268261Z"
    }
   },
   "outputs": [
    {
     "data": {
      "text/html": [
       "<div>\n",
       "<style scoped>\n",
       "    .dataframe tbody tr th:only-of-type {\n",
       "        vertical-align: middle;\n",
       "    }\n",
       "\n",
       "    .dataframe tbody tr th {\n",
       "        vertical-align: top;\n",
       "    }\n",
       "\n",
       "    .dataframe thead th {\n",
       "        text-align: right;\n",
       "    }\n",
       "</style>\n",
       "<table border=\"1\" class=\"dataframe\">\n",
       "  <thead>\n",
       "    <tr style=\"text-align: right;\">\n",
       "      <th></th>\n",
       "      <th>index</th>\n",
       "      <th>250000</th>\n",
       "      <th>250001</th>\n",
       "      <th>250002</th>\n",
       "      <th>250003</th>\n",
       "      <th>250004</th>\n",
       "      <th>250005</th>\n",
       "      <th>250006</th>\n",
       "      <th>250007</th>\n",
       "      <th>250008</th>\n",
       "      <th>...</th>\n",
       "      <th>499990</th>\n",
       "      <th>499991</th>\n",
       "      <th>499992</th>\n",
       "      <th>499993</th>\n",
       "      <th>499994</th>\n",
       "      <th>499995</th>\n",
       "      <th>499996</th>\n",
       "      <th>499997</th>\n",
       "      <th>499998</th>\n",
       "      <th>499999</th>\n",
       "    </tr>\n",
       "  </thead>\n",
       "  <tbody>\n",
       "    <tr>\n",
       "      <th>0</th>\n",
       "      <td>3</td>\n",
       "      <td>0</td>\n",
       "      <td>1089</td>\n",
       "      <td>427</td>\n",
       "      <td>427</td>\n",
       "      <td>759</td>\n",
       "      <td>759</td>\n",
       "      <td>1089</td>\n",
       "      <td>759</td>\n",
       "      <td>0</td>\n",
       "      <td>...</td>\n",
       "      <td>1089</td>\n",
       "      <td>0</td>\n",
       "      <td>1089</td>\n",
       "      <td>899</td>\n",
       "      <td>427</td>\n",
       "      <td>209</td>\n",
       "      <td>427</td>\n",
       "      <td>759</td>\n",
       "      <td>759</td>\n",
       "      <td>427</td>\n",
       "    </tr>\n",
       "    <tr>\n",
       "      <th>1</th>\n",
       "      <td>4</td>\n",
       "      <td>0</td>\n",
       "      <td>975</td>\n",
       "      <td>569</td>\n",
       "      <td>569</td>\n",
       "      <td>726</td>\n",
       "      <td>658</td>\n",
       "      <td>899</td>\n",
       "      <td>658</td>\n",
       "      <td>0</td>\n",
       "      <td>...</td>\n",
       "      <td>975</td>\n",
       "      <td>209</td>\n",
       "      <td>975</td>\n",
       "      <td>1089</td>\n",
       "      <td>569</td>\n",
       "      <td>0</td>\n",
       "      <td>975</td>\n",
       "      <td>759</td>\n",
       "      <td>759</td>\n",
       "      <td>1089</td>\n",
       "    </tr>\n",
       "    <tr>\n",
       "      <th>2</th>\n",
       "      <td>5</td>\n",
       "      <td>658</td>\n",
       "      <td>1089</td>\n",
       "      <td>427</td>\n",
       "      <td>427</td>\n",
       "      <td>759</td>\n",
       "      <td>759</td>\n",
       "      <td>899</td>\n",
       "      <td>759</td>\n",
       "      <td>0</td>\n",
       "      <td>...</td>\n",
       "      <td>427</td>\n",
       "      <td>1089</td>\n",
       "      <td>427</td>\n",
       "      <td>1089</td>\n",
       "      <td>1089</td>\n",
       "      <td>0</td>\n",
       "      <td>975</td>\n",
       "      <td>145</td>\n",
       "      <td>145</td>\n",
       "      <td>975</td>\n",
       "    </tr>\n",
       "    <tr>\n",
       "      <th>3</th>\n",
       "      <td>6</td>\n",
       "      <td>0</td>\n",
       "      <td>1089</td>\n",
       "      <td>427</td>\n",
       "      <td>427</td>\n",
       "      <td>759</td>\n",
       "      <td>759</td>\n",
       "      <td>1089</td>\n",
       "      <td>759</td>\n",
       "      <td>0</td>\n",
       "      <td>...</td>\n",
       "      <td>427</td>\n",
       "      <td>1089</td>\n",
       "      <td>427</td>\n",
       "      <td>1089</td>\n",
       "      <td>569</td>\n",
       "      <td>0</td>\n",
       "      <td>975</td>\n",
       "      <td>145</td>\n",
       "      <td>145</td>\n",
       "      <td>1089</td>\n",
       "    </tr>\n",
       "    <tr>\n",
       "      <th>4</th>\n",
       "      <td>7</td>\n",
       "      <td>658</td>\n",
       "      <td>975</td>\n",
       "      <td>569</td>\n",
       "      <td>569</td>\n",
       "      <td>726</td>\n",
       "      <td>658</td>\n",
       "      <td>899</td>\n",
       "      <td>658</td>\n",
       "      <td>0</td>\n",
       "      <td>...</td>\n",
       "      <td>427</td>\n",
       "      <td>1089</td>\n",
       "      <td>427</td>\n",
       "      <td>1089</td>\n",
       "      <td>569</td>\n",
       "      <td>899</td>\n",
       "      <td>1089</td>\n",
       "      <td>145</td>\n",
       "      <td>658</td>\n",
       "      <td>1089</td>\n",
       "    </tr>\n",
       "  </tbody>\n",
       "</table>\n",
       "<p>5 rows × 250001 columns</p>\n",
       "</div>"
      ],
      "text/plain": [
       "   index 250000 250001 250002 250003 250004 250005 250006 250007 250008  \\\n",
       "0      3      0   1089    427    427    759    759   1089    759      0   \n",
       "1      4      0    975    569    569    726    658    899    658      0   \n",
       "2      5    658   1089    427    427    759    759    899    759      0   \n",
       "3      6      0   1089    427    427    759    759   1089    759      0   \n",
       "4      7    658    975    569    569    726    658    899    658      0   \n",
       "\n",
       "   ...   499990 499991 499992 499993 499994 499995 499996 499997 499998 499999  \n",
       "0  ...     1089      0   1089    899    427    209    427    759    759    427  \n",
       "1  ...      975    209    975   1089    569      0    975    759    759   1089  \n",
       "2  ...      427   1089    427   1089   1089      0    975    145    145    975  \n",
       "3  ...      427   1089    427   1089    569      0    975    145    145   1089  \n",
       "4  ...      427   1089    427   1089    569    899   1089    145    658   1089  \n",
       "\n",
       "[5 rows x 250001 columns]"
      ]
     },
     "execution_count": 105,
     "metadata": {},
     "output_type": "execute_result"
    }
   ],
   "source": [
    "tdf_cats.reset_index(inplace = True)\n",
    "tdf_cats.head()"
   ]
  },
  {
   "cell_type": "code",
   "execution_count": 106,
   "metadata": {
    "ExecuteTime": {
     "end_time": "2018-05-07T11:28:21.388137Z",
     "start_time": "2018-05-07T11:28:21.372338Z"
    }
   },
   "outputs": [],
   "source": [
    "del tdf_cats['index']"
   ]
  },
  {
   "cell_type": "code",
   "execution_count": 107,
   "metadata": {
    "ExecuteTime": {
     "end_time": "2018-05-07T11:29:10.741504Z",
     "start_time": "2018-05-07T11:28:29.701632Z"
    }
   },
   "outputs": [],
   "source": [
    "tdf_cats.to_feather('preprocessed_test.feather')"
   ]
  },
  {
   "cell_type": "markdown",
   "metadata": {
    "ExecuteTime": {
     "end_time": "2018-04-29T15:27:07.980698Z",
     "start_time": "2018-04-29T15:27:07.976782Z"
    }
   },
   "source": [
    "# Training"
   ]
  },
  {
   "cell_type": "markdown",
   "metadata": {},
   "source": [
    "This part of the notebook is completely independent. However, it's not like it could be used for making production scripts, since this code uses already preprocessed data."
   ]
  },
  {
   "cell_type": "code",
   "execution_count": 149,
   "metadata": {
    "ExecuteTime": {
     "end_time": "2018-05-07T12:07:59.378098Z",
     "start_time": "2018-05-07T12:07:55.362457Z"
    }
   },
   "outputs": [],
   "source": [
    "import pandas as pd\n",
    "import numpy as np\n",
    "from sklearn.model_selection import StratifiedShuffleSplit\n",
    "from sklearn.ensemble import GradientBoostingClassifier\n",
    "from sklearn.metrics import accuracy_score, roc_auc_score, precision_score, recall_score, f1_score, confusion_matrix, log_loss\n",
    "import matplotlib.pyplot as plt\n",
    "import seaborn as sns\n",
    "from sklearn.externals import joblib\n",
    "from sklearn.linear_model import LogisticRegression\n",
    "from sklearn.preprocessing import StandardScaler\n",
    "%matplotlib inline\n",
    "\n",
    "df = pd.read_feather('labeld_train.feather')\n",
    "tdf = pd.read_feather('preprocessed_test.feather')\n",
    "\n",
    "kf = StratifiedShuffleSplit(n_splits=1, test_size = 0.25)\n",
    "X = df.copy()\n",
    "y = df['label']\n",
    "del X['label']\n",
    "folds = list(kf.split(X, y))\n",
    "\n",
    "xfold0_train, xfold0_test = X.iloc[folds[0][0], :], X.iloc[folds[0][1], :]\n",
    "yfold0_train, yfold0_test = y[folds[0][0]], y[folds[0][1]]"
   ]
  },
  {
   "cell_type": "code",
   "execution_count": 150,
   "metadata": {
    "ExecuteTime": {
     "end_time": "2018-05-07T12:07:59.384172Z",
     "start_time": "2018-05-07T12:07:59.379483Z"
    }
   },
   "outputs": [],
   "source": [
    "def fitprint(param, xtrain, ytrain,  xtest, ytest):\n",
    "    \n",
    "    pca = joblib.load('pca.pkl')\n",
    "    xtrain = pd.DataFrame(pca.transform(xtrain))\n",
    "    xtest = pd.DataFrame(pca.transform(xtest))\n",
    "    gbr = LogisticRegression(**param)\n",
    "    gbr.fit(xtrain, ytrain.values.astype('float64'))\n",
    "    \n",
    "    pred = gbr.predict_proba(xtest)[:, 1]\n",
    "    \n",
    "    predtrain = gbr.predict_proba(xtrain)[:, 1]\n",
    "    \n",
    "    print('Accuracy of classifier on training set: {:.4f}'\n",
    "         .format(gbr.score(xtrain, ytrain.values.astype('float64'))))\n",
    "    print('Accuracy of classifier on test set: {:.4f}'\n",
    "         .format(gbr.score(xtest, ytest.values.astype('float64'))))\n",
    "    print('Logloss of classifier on train set: {:.4f}'\n",
    "        .format(log_loss(ytrain.values.astype('float64'), predtrain)))\n",
    "    print('Logloss of classifier on testset: {:.4f}'\n",
    "        .format(log_loss(ytest.values.astype('float64'), pred)))\n",
    "    \n",
    "    pre = precision_score(ytest, np.round(pred, 0))\n",
    "    print('Precision score of classifier on test set: {:.4f}'.format(pre))\n",
    "    \n",
    "    re = recall_score(ytest, np.round(pred, 0))\n",
    "    print('Recall score of classifier on test set: {:.4f}'.format(re))\n",
    "    \n",
    "    f1 = f1_score(ytest, np.round(pred, 0))\n",
    "    print('F1 score of classifier on test set: {:.4f}'.format(f1))\n",
    "    \n",
    "    confm = confusion_matrix(ytest.values, np.round(pred, 0))\n",
    "    print(confm)\n",
    "    \n",
    "    return gbr"
   ]
  },
  {
   "cell_type": "code",
   "execution_count": 151,
   "metadata": {
    "ExecuteTime": {
     "end_time": "2018-05-07T12:08:03.661735Z",
     "start_time": "2018-05-07T12:08:03.174705Z"
    }
   },
   "outputs": [
    {
     "name": "stderr",
     "output_type": "stream",
     "text": [
      "/opt/conda/lib/python3.6/site-packages/sklearn/linear_model/logistic.py:1228: UserWarning: 'n_jobs' > 1 does not have any effect when 'solver' is set to 'liblinear'. Got 'n_jobs' = 8.\n",
      "  \" = {}.\".format(self.n_jobs))\n"
     ]
    },
    {
     "name": "stdout",
     "output_type": "stream",
     "text": [
      "Accuracy of classifier on training set: 1.0000\n",
      "Accuracy of classifier on test set: 1.0000\n",
      "Logloss of classifier on train set: 0.0000\n",
      "Logloss of classifier on testset: 0.0003\n",
      "Precision score of classifier on test set: 1.0000\n",
      "Recall score of classifier on test set: 1.0000\n",
      "F1 score of classifier on test set: 1.0000\n",
      "[[13  0]\n",
      " [ 0 12]]\n"
     ]
    }
   ],
   "source": [
    "param = {'penalty':'l2', 'C':0.5, 'max_iter':100, 'n_jobs':8, 'random_state':0}\n",
    "\n",
    "# param = {'random_state':0, 'learning_rate':0.05, 'n_estimators':300, 'min_samples_split':100, 'subsample': 0.8, 'max_features': 0.8, 'verbose': False}\n",
    "\n",
    "gbr0 = fitprint(param, xfold0_train, yfold0_train,  xfold0_test, yfold0_test)\n",
    "pca = joblib.load('pca.pkl')\n",
    "# save model for future use\n",
    "joblib.dump(gbr0, 'classifier.pkl')\n",
    "gbr0 = joblib.load('classifier.pkl')\n",
    "\n",
    "# prediction\n",
    "tdf = pd.DataFrame(pca.transform(tdf))\n",
    "tdf['label'] = gbr0.predict(tdf)\n",
    "\n",
    "tdf.rename(columns = dict(zip(list(tdf.columns), np.array(list(tdf.columns)).astype(str))), inplace = True)\n",
    "\n",
    "tdf.to_feather('predicted_test.feather')"
   ]
  },
  {
   "cell_type": "markdown",
   "metadata": {},
   "source": [
    "save labels for check"
   ]
  },
  {
   "cell_type": "code",
   "execution_count": 155,
   "metadata": {
    "ExecuteTime": {
     "end_time": "2018-05-07T12:09:45.878157Z",
     "start_time": "2018-05-07T12:09:45.870572Z"
    }
   },
   "outputs": [],
   "source": [
    "df.label.to_csv('learn_labels.csv')\n",
    "tdf.label.to_csv('test_labels.csv')"
   ]
  },
  {
   "cell_type": "code",
   "execution_count": null,
   "metadata": {},
   "outputs": [],
   "source": []
  }
 ],
 "metadata": {
  "kernelspec": {
   "display_name": "Python 3",
   "language": "python",
   "name": "python3"
  },
  "language_info": {
   "codemirror_mode": {
    "name": "ipython",
    "version": 3
   },
   "file_extension": ".py",
   "mimetype": "text/x-python",
   "name": "python",
   "nbconvert_exporter": "python",
   "pygments_lexer": "ipython3",
   "version": "3.6.3"
  },
  "toc": {
   "base_numbering": 1,
   "nav_menu": {},
   "number_sections": true,
   "sideBar": true,
   "skip_h1_title": false,
   "title_cell": "Table of Contents",
   "title_sidebar": "Contents",
   "toc_cell": false,
   "toc_position": {
    "height": "calc(100% - 180px)",
    "left": "10px",
    "top": "150px",
    "width": "240px"
   },
   "toc_section_display": "block",
   "toc_window_display": true
  }
 },
 "nbformat": 4,
 "nbformat_minor": 2
}
