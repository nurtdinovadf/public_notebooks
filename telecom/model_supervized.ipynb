{
 "cells": [
  {
   "cell_type": "markdown",
   "metadata": {},
   "source": [
    "# Import section"
   ]
  },
  {
   "cell_type": "code",
   "execution_count": 27,
   "metadata": {
    "ExecuteTime": {
     "end_time": "2018-06-10T18:08:31.798468Z",
     "start_time": "2018-06-10T18:08:31.776839Z"
    }
   },
   "outputs": [],
   "source": [
    "import pandas as pd\n",
    "import numpy as np\n",
    "from sklearn.model_selection import StratifiedShuffleSplit\n",
    "import lightgbm\n",
    "from sklearn.metrics import accuracy_score, roc_auc_score, precision_score, recall_score, f1_score, confusion_matrix, log_loss, mean_squared_error\n",
    "import matplotlib.pyplot as plt\n",
    "import seaborn as sns\n",
    "%matplotlib inline"
   ]
  },
  {
   "cell_type": "code",
   "execution_count": 25,
   "metadata": {
    "ExecuteTime": {
     "end_time": "2018-06-10T18:03:02.838531Z",
     "start_time": "2018-06-10T18:03:02.822948Z"
    }
   },
   "outputs": [],
   "source": [
    "sns.set()\n",
    "sns.set_style('white', {'axes.grid': False, 'axes.edgecolor': '0.9'})"
   ]
  },
  {
   "cell_type": "markdown",
   "metadata": {},
   "source": [
    "# Read data"
   ]
  },
  {
   "cell_type": "code",
   "execution_count": 2,
   "metadata": {
    "ExecuteTime": {
     "end_time": "2018-06-10T15:25:40.854791Z",
     "start_time": "2018-06-10T15:25:40.752404Z"
    }
   },
   "outputs": [
    {
     "data": {
      "text/html": [
       "<div>\n",
       "<style scoped>\n",
       "    .dataframe tbody tr th:only-of-type {\n",
       "        vertical-align: middle;\n",
       "    }\n",
       "\n",
       "    .dataframe tbody tr th {\n",
       "        vertical-align: top;\n",
       "    }\n",
       "\n",
       "    .dataframe thead th {\n",
       "        text-align: right;\n",
       "    }\n",
       "</style>\n",
       "<table border=\"1\" class=\"dataframe\">\n",
       "  <thead>\n",
       "    <tr style=\"text-align: right;\">\n",
       "      <th></th>\n",
       "      <th>SUBS_ID</th>\n",
       "      <th>STATUS</th>\n",
       "      <th>DATE_OF_BIRTH</th>\n",
       "      <th>GNDR_ID</th>\n",
       "      <th>COUNT(PT.PAY_ID)</th>\n",
       "      <th>PAYMENT</th>\n",
       "      <th>CHARGE</th>\n",
       "      <th>UNKNOWN1</th>\n",
       "      <th>UNKNOWN2</th>\n",
       "      <th>CNT_contacts</th>\n",
       "      <th>android</th>\n",
       "      <th>ios</th>\n",
       "      <th>web</th>\n",
       "      <th>oses</th>\n",
       "      <th>year</th>\n",
       "      <th>month</th>\n",
       "      <th>day</th>\n",
       "      <th>woy</th>\n",
       "      <th>dow</th>\n",
       "      <th>status_encoded</th>\n",
       "    </tr>\n",
       "  </thead>\n",
       "  <tbody>\n",
       "    <tr>\n",
       "      <th>0</th>\n",
       "      <td>593</td>\n",
       "      <td>\"Активен\"</td>\n",
       "      <td>2017-09-30</td>\n",
       "      <td>1.0</td>\n",
       "      <td>65700</td>\n",
       "      <td>824394402.0</td>\n",
       "      <td>12746649.0</td>\n",
       "      <td>27.0</td>\n",
       "      <td>-1.0</td>\n",
       "      <td>0</td>\n",
       "      <td>0</td>\n",
       "      <td>0</td>\n",
       "      <td>0</td>\n",
       "      <td>0</td>\n",
       "      <td>2017.0</td>\n",
       "      <td>9.0</td>\n",
       "      <td>30.0</td>\n",
       "      <td>39.0</td>\n",
       "      <td>5.0</td>\n",
       "      <td>0</td>\n",
       "    </tr>\n",
       "    <tr>\n",
       "      <th>1</th>\n",
       "      <td>161292</td>\n",
       "      <td>\"Активен\"</td>\n",
       "      <td>NaT</td>\n",
       "      <td>1.0</td>\n",
       "      <td>380</td>\n",
       "      <td>22800000.0</td>\n",
       "      <td>103856.0</td>\n",
       "      <td>296.0</td>\n",
       "      <td>-1.0</td>\n",
       "      <td>0</td>\n",
       "      <td>0</td>\n",
       "      <td>0</td>\n",
       "      <td>0</td>\n",
       "      <td>0</td>\n",
       "      <td>-1.0</td>\n",
       "      <td>-1.0</td>\n",
       "      <td>-1.0</td>\n",
       "      <td>-1.0</td>\n",
       "      <td>-1.0</td>\n",
       "      <td>0</td>\n",
       "    </tr>\n",
       "    <tr>\n",
       "      <th>2</th>\n",
       "      <td>161306</td>\n",
       "      <td>\"Активен\"</td>\n",
       "      <td>NaT</td>\n",
       "      <td>1.0</td>\n",
       "      <td>380</td>\n",
       "      <td>22800000.0</td>\n",
       "      <td>103856.0</td>\n",
       "      <td>296.0</td>\n",
       "      <td>-1.0</td>\n",
       "      <td>0</td>\n",
       "      <td>1</td>\n",
       "      <td>0</td>\n",
       "      <td>0</td>\n",
       "      <td>1</td>\n",
       "      <td>-1.0</td>\n",
       "      <td>-1.0</td>\n",
       "      <td>-1.0</td>\n",
       "      <td>-1.0</td>\n",
       "      <td>-1.0</td>\n",
       "      <td>0</td>\n",
       "    </tr>\n",
       "    <tr>\n",
       "      <th>3</th>\n",
       "      <td>13340</td>\n",
       "      <td>\"Активен\"</td>\n",
       "      <td>1983-11-04</td>\n",
       "      <td>-1.0</td>\n",
       "      <td>3640</td>\n",
       "      <td>1059972.0</td>\n",
       "      <td>7008.0</td>\n",
       "      <td>1358069.0</td>\n",
       "      <td>979.0</td>\n",
       "      <td>0</td>\n",
       "      <td>1</td>\n",
       "      <td>0</td>\n",
       "      <td>1</td>\n",
       "      <td>2</td>\n",
       "      <td>1983.0</td>\n",
       "      <td>11.0</td>\n",
       "      <td>4.0</td>\n",
       "      <td>44.0</td>\n",
       "      <td>4.0</td>\n",
       "      <td>0</td>\n",
       "    </tr>\n",
       "    <tr>\n",
       "      <th>4</th>\n",
       "      <td>249</td>\n",
       "      <td>\"Активен\"</td>\n",
       "      <td>2017-09-30</td>\n",
       "      <td>1.0</td>\n",
       "      <td>65700</td>\n",
       "      <td>824394402.0</td>\n",
       "      <td>12746649.0</td>\n",
       "      <td>27.0</td>\n",
       "      <td>-1.0</td>\n",
       "      <td>0</td>\n",
       "      <td>0</td>\n",
       "      <td>0</td>\n",
       "      <td>0</td>\n",
       "      <td>0</td>\n",
       "      <td>2017.0</td>\n",
       "      <td>9.0</td>\n",
       "      <td>30.0</td>\n",
       "      <td>39.0</td>\n",
       "      <td>5.0</td>\n",
       "      <td>0</td>\n",
       "    </tr>\n",
       "  </tbody>\n",
       "</table>\n",
       "</div>"
      ],
      "text/plain": [
       "   SUBS_ID     STATUS DATE_OF_BIRTH  GNDR_ID  COUNT(PT.PAY_ID)      PAYMENT  \\\n",
       "0      593  \"Активен\"    2017-09-30      1.0             65700  824394402.0   \n",
       "1   161292  \"Активен\"           NaT      1.0               380   22800000.0   \n",
       "2   161306  \"Активен\"           NaT      1.0               380   22800000.0   \n",
       "3    13340  \"Активен\"    1983-11-04     -1.0              3640    1059972.0   \n",
       "4      249  \"Активен\"    2017-09-30      1.0             65700  824394402.0   \n",
       "\n",
       "       CHARGE   UNKNOWN1  UNKNOWN2  CNT_contacts  android  ios  web  oses  \\\n",
       "0  12746649.0       27.0      -1.0             0        0    0    0     0   \n",
       "1    103856.0      296.0      -1.0             0        0    0    0     0   \n",
       "2    103856.0      296.0      -1.0             0        1    0    0     1   \n",
       "3      7008.0  1358069.0     979.0             0        1    0    1     2   \n",
       "4  12746649.0       27.0      -1.0             0        0    0    0     0   \n",
       "\n",
       "     year  month   day   woy  dow  status_encoded  \n",
       "0  2017.0    9.0  30.0  39.0  5.0               0  \n",
       "1    -1.0   -1.0  -1.0  -1.0 -1.0               0  \n",
       "2    -1.0   -1.0  -1.0  -1.0 -1.0               0  \n",
       "3  1983.0   11.0   4.0  44.0  4.0               0  \n",
       "4  2017.0    9.0  30.0  39.0  5.0               0  "
      ]
     },
     "execution_count": 2,
     "metadata": {},
     "output_type": "execute_result"
    }
   ],
   "source": [
    "ex21 = pd.read_feather('ex21.feather')\n",
    "ex21.head()"
   ]
  },
  {
   "cell_type": "markdown",
   "metadata": {},
   "source": [
    "# Preprocess"
   ]
  },
  {
   "cell_type": "code",
   "execution_count": 3,
   "metadata": {
    "ExecuteTime": {
     "end_time": "2018-06-10T15:51:13.469520Z",
     "start_time": "2018-06-10T15:51:13.454277Z"
    }
   },
   "outputs": [],
   "source": [
    "columns = list(ex21.columns)\n",
    "for col in ['SUBS_ID', 'STATUS', 'DATE_OF_BIRTH', 'status_encoded']:\n",
    "    columns.remove(col)"
   ]
  },
  {
   "cell_type": "code",
   "execution_count": 4,
   "metadata": {
    "ExecuteTime": {
     "end_time": "2018-06-10T15:54:32.207838Z",
     "start_time": "2018-06-10T15:54:32.144805Z"
    }
   },
   "outputs": [],
   "source": [
    "rate1 = int(np.round(len(ex21[ex21.status_encoded == 0]) / len(ex21[ex21.status_encoded == 1]), 0))\n",
    "rate2 = int(np.round(len(ex21[ex21.status_encoded == 0]) / len(ex21[ex21.status_encoded == 2]), 0))\n",
    "rate3 = int(np.round(len(ex21[ex21.status_encoded == 0]) / len(ex21[ex21.status_encoded == 3]), 0))"
   ]
  },
  {
   "cell_type": "code",
   "execution_count": 9,
   "metadata": {
    "ExecuteTime": {
     "end_time": "2018-06-10T15:57:19.541576Z",
     "start_time": "2018-06-10T15:57:18.041482Z"
    }
   },
   "outputs": [],
   "source": [
    "ex21 = pd.concat([ex21[ex21.status_encoded == 1]] * rate1 + [ex21], ignore_index = True)\n",
    "ex21 = pd.concat([ex21[ex21.status_encoded == 2]] * rate2 + [ex21], ignore_index = True)\n",
    "ex21 = pd.concat([ex21[ex21.status_encoded == 3]] * rate3 + [ex21], ignore_index = True)"
   ]
  },
  {
   "cell_type": "code",
   "execution_count": 10,
   "metadata": {
    "ExecuteTime": {
     "end_time": "2018-06-10T15:57:26.580463Z",
     "start_time": "2018-06-10T15:57:26.556492Z"
    }
   },
   "outputs": [
    {
     "data": {
      "text/plain": [
       "380010"
      ]
     },
     "execution_count": 10,
     "metadata": {},
     "output_type": "execute_result"
    }
   ],
   "source": [
    "len(ex21)"
   ]
  },
  {
   "cell_type": "code",
   "execution_count": 12,
   "metadata": {
    "ExecuteTime": {
     "end_time": "2018-06-10T17:52:44.078589Z",
     "start_time": "2018-06-10T17:52:43.819440Z"
    }
   },
   "outputs": [],
   "source": [
    "kf = StratifiedShuffleSplit(n_splits=1, test_size = 0.25)\n",
    "X = ex21[columns].copy()\n",
    "y = ex21['status_encoded']\n",
    "folds = list(kf.split(X, y))\n",
    "\n",
    "xfold0_train, xfold0_test = X.iloc[folds[0][0], :], X.iloc[folds[0][1], :]\n",
    "yfold0_train, yfold0_test = y[folds[0][0]], y[folds[0][1]]"
   ]
  },
  {
   "cell_type": "markdown",
   "metadata": {},
   "source": [
    "# Model"
   ]
  },
  {
   "cell_type": "code",
   "execution_count": 18,
   "metadata": {
    "ExecuteTime": {
     "end_time": "2018-06-10T17:58:20.379205Z",
     "start_time": "2018-06-10T17:58:20.359250Z"
    }
   },
   "outputs": [],
   "source": [
    "param =  {\n",
    "    'task': 'train',\n",
    "    'boosting_type': 'gbdt',\n",
    "    'objective': 'multiclass',\n",
    "    'metric': 'multi_logloss',\n",
    "    # 'max_depth': 15,\n",
    "    'num_leaves': 300,\n",
    "    'feature_fraction': 0.65,\n",
    "    'bagging_fraction': 0.75,\n",
    "    # 'bagging_freq': 5,\n",
    "    'learning_rate': 0.02,\n",
    "    'verbose': 0, 'num_class': 4\n",
    "} "
   ]
  },
  {
   "cell_type": "code",
   "execution_count": 19,
   "metadata": {
    "ExecuteTime": {
     "end_time": "2018-06-10T18:01:36.616329Z",
     "start_time": "2018-06-10T17:58:21.217566Z"
    }
   },
   "outputs": [
    {
     "name": "stdout",
     "output_type": "stream",
     "text": [
      "Training until validation scores don't improve for 100 rounds.\n",
      "[100]\ttrain's multi_logloss: 0.351957\tvalid's multi_logloss: 0.359787\n",
      "[200]\ttrain's multi_logloss: 0.18284\tvalid's multi_logloss: 0.19279\n",
      "[300]\ttrain's multi_logloss: 0.132771\tvalid's multi_logloss: 0.143969\n",
      "[400]\ttrain's multi_logloss: 0.110845\tvalid's multi_logloss: 0.123016\n",
      "[500]\ttrain's multi_logloss: 0.0965176\tvalid's multi_logloss: 0.109142\n",
      "[600]\ttrain's multi_logloss: 0.0866786\tvalid's multi_logloss: 0.0996284\n",
      "[700]\ttrain's multi_logloss: 0.0788648\tvalid's multi_logloss: 0.0920737\n",
      "[800]\ttrain's multi_logloss: 0.0734027\tvalid's multi_logloss: 0.0871023\n",
      "[900]\ttrain's multi_logloss: 0.0689906\tvalid's multi_logloss: 0.0831228\n",
      "[1000]\ttrain's multi_logloss: 0.0651092\tvalid's multi_logloss: 0.079476\n",
      "Did not meet early stopping. Best iteration is:\n",
      "[1000]\ttrain's multi_logloss: 0.0651092\tvalid's multi_logloss: 0.079476\n"
     ]
    }
   ],
   "source": [
    "lgtrain = lightgbm.Dataset(xfold0_train, yfold0_train,\n",
    "                    feature_name = columns)\n",
    "lgeval = lightgbm.Dataset(xfold0_test, yfold0_test,\n",
    "                    feature_name = columns)\n",
    "\n",
    "lgb_clf = lightgbm.train(param, lgtrain,\n",
    "    num_boost_round=1000,\n",
    "    valid_sets=[lgtrain, lgeval],\n",
    "    valid_names=['train','valid'],\n",
    "    early_stopping_rounds=100,\n",
    "    verbose_eval=100\n",
    ")"
   ]
  },
  {
   "cell_type": "code",
   "execution_count": 20,
   "metadata": {
    "ExecuteTime": {
     "end_time": "2018-06-10T18:01:37.591017Z",
     "start_time": "2018-06-10T18:01:37.542548Z"
    }
   },
   "outputs": [],
   "source": [
    "yfold0_trainohc = pd.get_dummies(yfold0_train)\n",
    "yfold0_testohc = pd.get_dummies(yfold0_test)"
   ]
  },
  {
   "cell_type": "code",
   "execution_count": 21,
   "metadata": {
    "ExecuteTime": {
     "end_time": "2018-06-10T18:01:38.833685Z",
     "start_time": "2018-06-10T18:01:38.737281Z"
    }
   },
   "outputs": [],
   "source": [
    "def fitprint(gbr, xtrain, ytrain,  xtest, ytest, ytrain_ohc, ytest_ohc, datacolumns = None):\n",
    "    \n",
    "    pred = gbr.predict(xtest, num_iteration=gbr.best_iteration)\n",
    "    out = np.zeros(pred.shape, dtype=bool)\n",
    "    out[np.arange(len(pred)), pred.argmax(axis=1)] = 1\n",
    "    out = out * 1\n",
    "    outlabels = pred.argmax(axis=1)\n",
    "    \n",
    "    predtrain = gbr.predict(xtrain, num_iteration=gbr.best_iteration)\n",
    "    outtrain = np.zeros(predtrain.shape, dtype=bool)\n",
    "    outtrain[np.arange(len(predtrain)), predtrain.argmax(axis=1)] = 1\n",
    "    outtrain = outtrain * 1\n",
    "    outtrainlabels = predtrain.argmax(axis=1)\n",
    "    \n",
    "    print('Logloss of classifier on train set: {:.4f}'\n",
    "        .format(log_loss(ytrain_ohc, predtrain)))\n",
    "    print('Logloss of classifier on testset: {:.4f}'\n",
    "        .format(log_loss(ytest_ohc, pred)))\n",
    "    \n",
    "    pre = precision_score(ytest_ohc, out, average = 'macro')\n",
    "    print('Precision score of classifier on test set: {:.4f}'.format(pre))\n",
    "    \n",
    "    re = recall_score(ytest_ohc, out, average = 'macro')\n",
    "    print('Recall score of classifier on test set: {:.4f}'.format(re))\n",
    "    \n",
    "    f1 = f1_score(ytest_ohc, out, average = 'macro')\n",
    "    print('F1 score of classifier on test set: {:.4f}'.format(f1))\n",
    "    \n",
    "    confm = confusion_matrix(ytest.values, out.argmax(axis = 1))\n",
    "    print(confm)\n",
    "    \n",
    "    print('Accuracy of classifier on training set: {:.4f}'\n",
    "         .format(accuracy_score(ytrain, outtrainlabels)))\n",
    "    print('Accuracy of classifier on test set: {:.4f}'\n",
    "         .format(accuracy_score(ytest, outlabels)))\n",
    "    \n",
    "    f, ax = plt.subplots(figsize=(7, 14))\n",
    "    fdf = pd.DataFrame(data = list(gbr.feature_importance()), index = xtrain.columns).reset_index()\n",
    "    fdf = fdf.rename(columns={fdf.columns[1]:\"importance\"})\n",
    "    fdf = fdf.sort_values(by = ['importance'], ascending = False)\n",
    "    fdf = fdf.iloc[0:10, :]\n",
    "    \n",
    "    if datacolumns is not None:\n",
    "        fdf['index'] = fdf['index'].apply(lambda x: str(datacolumns[x]))\n",
    "    fdf['index'] = fdf['index'].apply(lambda x: str(x)[0:50])\n",
    "    print(fdf)\n",
    "    sns.barplot(y = fdf['index'].astype(str), x = fdf['importance'],  ax = ax, palette = sns.color_palette(\"YlGnBu\", n_colors=4))\n",
    "    ax.set_title('feature importances')"
   ]
  },
  {
   "cell_type": "code",
   "execution_count": 28,
   "metadata": {
    "ExecuteTime": {
     "end_time": "2018-06-10T18:11:59.598577Z",
     "start_time": "2018-06-10T18:08:40.662471Z"
    }
   },
   "outputs": [
    {
     "name": "stdout",
     "output_type": "stream",
     "text": [
      "Logloss of classifier on train set: 0.0651\n",
      "Logloss of classifier on testset: 0.0795\n",
      "Precision score of classifier on test set: 0.9806\n",
      "Recall score of classifier on test set: 0.9800\n",
      "F1 score of classifier on test set: 0.9801\n",
      "[[22120  1201    50   103]\n",
      " [  163 24257     0   105]\n",
      " [    0     0 23489     0]\n",
      " [  272     0     0 23243]]\n",
      "Accuracy of classifier on training set: 0.9856\n",
      "Accuracy of classifier on test set: 0.9801\n",
      "               index  importance\n",
      "11              year      208885\n",
      "13               day      195140\n",
      "14               woy      191549\n",
      "15               dow      120750\n",
      "12             month      111799\n",
      "2            PAYMENT       99987\n",
      "3             CHARGE       56036\n",
      "1   COUNT(PT.PAY_ID)       50672\n",
      "0            GNDR_ID       44750\n",
      "10              oses       31304\n"
     ]
    },
    {
     "data": {
      "image/png": "[encoded data removed]",
      "text/plain": [
       "<matplotlib.figure.Figure at 0x7fd962995198>"
      ]
     },
     "metadata": {},
     "output_type": "display_data"
    }
   ],
   "source": [
    "fitprint(lgb_clf, xfold0_train, yfold0_train,  xfold0_test, yfold0_test, yfold0_trainohc, yfold0_testohc, datacolumns = None)"
   ]
  },
  {
   "cell_type": "code",
   "execution_count": null,
   "metadata": {},
   "outputs": [],
   "source": []
  }
 ],
 "metadata": {
  "kernelspec": {
   "display_name": "Python 3",
   "language": "python",
   "name": "python3"
  },
  "language_info": {
   "codemirror_mode": {
    "name": "ipython",
    "version": 3
   },
   "file_extension": ".py",
   "mimetype": "text/x-python",
   "name": "python",
   "nbconvert_exporter": "python",
   "pygments_lexer": "ipython3",
   "version": "3.5.2"
  },
  "toc": {
   "nav_menu": {},
   "number_sections": true,
   "sideBar": true,
   "skip_h1_title": false,
   "toc_cell": false,
   "toc_position": {},
   "toc_section_display": "block",
   "toc_window_display": true
  }
 },
 "nbformat": 4,
 "nbformat_minor": 2
}
